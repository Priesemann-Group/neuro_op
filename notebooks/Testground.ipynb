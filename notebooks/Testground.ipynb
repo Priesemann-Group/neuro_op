{
    "cells": [
        {
            "cell_type": "code",
            "execution_count": 6,
            "metadata": {},
            "outputs": [],
            "source": [
                "import copy\n",
                "\n",
                "# import cProfile\n",
                "import itertools\n",
                "\n",
                "import matplotlib.pyplot as plt\n",
                "import networkx as nx\n",
                "import numpy as np\n",
                "import scipy.stats as st\n",
                "\n",
                "import neuro_op as nop"
            ]
        },
        {
            "cell_type": "code",
            "execution_count": 17,
            "metadata": {},
            "outputs": [],
            "source": [
                "nop.plot_setup()\n",
                "cmap = \"inferno\""
            ]
        },
        {
            "cell_type": "code",
            "execution_count": 18,
            "metadata": {},
            "outputs": [],
            "source": [
                "# Reference input, to be adapted, just here for reference\n",
                "input = dict(\n",
                "    G=nop.build_random_network(N_nodes=100, N_neighbours=5),\n",
                "    llf_nodes=st.norm,\n",
                "    params_node=dict(\n",
                "        loc=0,\n",
                "        scale=10,\n",
                "    ),\n",
                "    sd_llf=1,\n",
                "    llf_world=st.norm,\n",
                "    params_world=dict(\n",
                "        loc=0,\n",
                "        scale=1,\n",
                "    ),\n",
                "    h=1,\n",
                "    r=1,\n",
                "    t0=0,\n",
                "    t_max=100,\n",
                "    t_sample=1,\n",
                "    sampling=True,\n",
                "    init_rngs=False,\n",
                "    seed=False,\n",
                ")"
            ]
        },
        {
            "cell_type": "code",
            "execution_count": 42,
            "metadata": {},
            "outputs": [
                {
                    "data": {
                        "text/plain": [
                            "array([ 1.,  2.,  4.,  5.,  7.,  8., 10., 11., 13., 14.])"
                        ]
                    },
                    "execution_count": 42,
                    "metadata": {},
                    "output_type": "execute_result"
                }
            ],
            "source": [
                "np.round(np.linspace(1, 14, 10), 0)"
            ]
        },
        {
            "cell_type": "code",
            "execution_count": 38,
            "metadata": {},
            "outputs": [
                {
                    "name": "stdout",
                    "output_type": "stream",
                    "text": [
                        "0.0 1.0 0.25\n",
                        "0.0 1.0 0.5\n",
                        "0.0 1.0 0.75\n",
                        "0.0 1.0 1.0\n",
                        "0.0 1.0 1.25\n",
                        "0.0 1.0 1.5\n",
                        "0.0 1.0 1.75\n",
                        "0.0 1.0 2.0\n",
                        "0.0 2.5 0.25\n",
                        "0.0 2.5 0.5\n",
                        "0.0 2.5 0.75\n",
                        "0.0 2.5 1.0\n",
                        "0.0 2.5 1.25\n",
                        "0.0 2.5 1.5\n",
                        "0.0 2.5 1.75\n",
                        "0.0 2.5 2.0\n",
                        "0.0 4.0 0.25\n",
                        "0.0 4.0 0.5\n",
                        "0.0 4.0 0.75\n",
                        "0.0 4.0 1.0\n",
                        "0.0 4.0 1.25\n",
                        "0.0 4.0 1.5\n",
                        "0.0 4.0 1.75\n",
                        "0.0 4.0 2.0\n",
                        "0.0 5.5 0.25\n",
                        "0.0 5.5 0.5\n",
                        "0.0 5.5 0.75\n",
                        "0.0 5.5 1.0\n",
                        "0.0 5.5 1.25\n",
                        "0.0 5.5 1.5\n",
                        "0.0 5.5 1.75\n",
                        "0.0 5.5 2.0\n",
                        "0.0 7.0 0.25\n",
                        "0.0 7.0 0.5\n",
                        "0.0 7.0 0.75\n",
                        "0.0 7.0 1.0\n",
                        "0.0 7.0 1.25\n",
                        "0.0 7.0 1.5\n",
                        "0.0 7.0 1.75\n",
                        "0.0 7.0 2.0\n",
                        "0.0 8.5 0.25\n",
                        "0.0 8.5 0.5\n",
                        "0.0 8.5 0.75\n",
                        "0.0 8.5 1.0\n",
                        "0.0 8.5 1.25\n",
                        "0.0 8.5 1.5\n",
                        "0.0 8.5 1.75\n",
                        "0.0 8.5 2.0\n",
                        "0.0 10.0 0.25\n",
                        "0.0 10.0 0.5\n",
                        "0.0 10.0 0.75\n",
                        "0.0 10.0 1.0\n",
                        "0.0 10.0 1.25\n",
                        "0.0 10.0 1.5\n",
                        "0.0 10.0 1.75\n",
                        "0.0 10.0 2.0\n",
                        "2.0 1.0 0.25\n",
                        "2.0 1.0 0.5\n",
                        "2.0 1.0 0.75\n",
                        "2.0 1.0 1.0\n",
                        "2.0 1.0 1.25\n",
                        "2.0 1.0 1.5\n",
                        "2.0 1.0 1.75\n",
                        "2.0 1.0 2.0\n",
                        "2.0 2.5 0.25\n",
                        "2.0 2.5 0.5\n",
                        "2.0 2.5 0.75\n",
                        "2.0 2.5 1.0\n",
                        "2.0 2.5 1.25\n",
                        "2.0 2.5 1.5\n",
                        "2.0 2.5 1.75\n",
                        "2.0 2.5 2.0\n",
                        "2.0 4.0 0.25\n",
                        "2.0 4.0 0.5\n",
                        "2.0 4.0 0.75\n",
                        "2.0 4.0 1.0\n",
                        "2.0 4.0 1.25\n",
                        "2.0 4.0 1.5\n",
                        "2.0 4.0 1.75\n",
                        "2.0 4.0 2.0\n",
                        "2.0 5.5 0.25\n",
                        "2.0 5.5 0.5\n",
                        "2.0 5.5 0.75\n",
                        "2.0 5.5 1.0\n",
                        "2.0 5.5 1.25\n",
                        "2.0 5.5 1.5\n",
                        "2.0 5.5 1.75\n",
                        "2.0 5.5 2.0\n",
                        "2.0 7.0 0.25\n",
                        "2.0 7.0 0.5\n",
                        "2.0 7.0 0.75\n",
                        "2.0 7.0 1.0\n",
                        "2.0 7.0 1.25\n",
                        "2.0 7.0 1.5\n",
                        "2.0 7.0 1.75\n",
                        "2.0 7.0 2.0\n",
                        "2.0 8.5 0.25\n",
                        "2.0 8.5 0.5\n",
                        "2.0 8.5 0.75\n",
                        "2.0 8.5 1.0\n",
                        "2.0 8.5 1.25\n",
                        "2.0 8.5 1.5\n",
                        "2.0 8.5 1.75\n",
                        "2.0 8.5 2.0\n",
                        "2.0 10.0 0.25\n",
                        "2.0 10.0 0.5\n",
                        "2.0 10.0 0.75\n",
                        "2.0 10.0 1.0\n",
                        "2.0 10.0 1.25\n",
                        "2.0 10.0 1.5\n",
                        "2.0 10.0 1.75\n",
                        "2.0 10.0 2.0\n",
                        "4.0 1.0 0.25\n",
                        "4.0 1.0 0.5\n",
                        "4.0 1.0 0.75\n",
                        "4.0 1.0 1.0\n",
                        "4.0 1.0 1.25\n",
                        "4.0 1.0 1.5\n",
                        "4.0 1.0 1.75\n",
                        "4.0 1.0 2.0\n",
                        "4.0 2.5 0.25\n",
                        "4.0 2.5 0.5\n",
                        "4.0 2.5 0.75\n",
                        "4.0 2.5 1.0\n",
                        "4.0 2.5 1.25\n",
                        "4.0 2.5 1.5\n",
                        "4.0 2.5 1.75\n",
                        "4.0 2.5 2.0\n",
                        "4.0 4.0 0.25\n",
                        "4.0 4.0 0.5\n",
                        "4.0 4.0 0.75\n",
                        "4.0 4.0 1.0\n",
                        "4.0 4.0 1.25\n",
                        "4.0 4.0 1.5\n",
                        "4.0 4.0 1.75\n",
                        "4.0 4.0 2.0\n",
                        "4.0 5.5 0.25\n",
                        "4.0 5.5 0.5\n",
                        "4.0 5.5 0.75\n",
                        "4.0 5.5 1.0\n",
                        "4.0 5.5 1.25\n",
                        "4.0 5.5 1.5\n",
                        "4.0 5.5 1.75\n",
                        "4.0 5.5 2.0\n",
                        "4.0 7.0 0.25\n",
                        "4.0 7.0 0.5\n",
                        "4.0 7.0 0.75\n",
                        "4.0 7.0 1.0\n",
                        "4.0 7.0 1.25\n",
                        "4.0 7.0 1.5\n",
                        "4.0 7.0 1.75\n",
                        "4.0 7.0 2.0\n",
                        "4.0 8.5 0.25\n",
                        "4.0 8.5 0.5\n",
                        "4.0 8.5 0.75\n",
                        "4.0 8.5 1.0\n",
                        "4.0 8.5 1.25\n",
                        "4.0 8.5 1.5\n",
                        "4.0 8.5 1.75\n",
                        "4.0 8.5 2.0\n",
                        "4.0 10.0 0.25\n",
                        "4.0 10.0 0.5\n",
                        "4.0 10.0 0.75\n",
                        "4.0 10.0 1.0\n",
                        "4.0 10.0 1.25\n",
                        "4.0 10.0 1.5\n",
                        "4.0 10.0 1.75\n",
                        "4.0 10.0 2.0\n",
                        "6.0 1.0 0.25\n",
                        "6.0 1.0 0.5\n",
                        "6.0 1.0 0.75\n",
                        "6.0 1.0 1.0\n",
                        "6.0 1.0 1.25\n",
                        "6.0 1.0 1.5\n",
                        "6.0 1.0 1.75\n",
                        "6.0 1.0 2.0\n",
                        "6.0 2.5 0.25\n",
                        "6.0 2.5 0.5\n",
                        "6.0 2.5 0.75\n",
                        "6.0 2.5 1.0\n",
                        "6.0 2.5 1.25\n",
                        "6.0 2.5 1.5\n",
                        "6.0 2.5 1.75\n",
                        "6.0 2.5 2.0\n",
                        "6.0 4.0 0.25\n",
                        "6.0 4.0 0.5\n",
                        "6.0 4.0 0.75\n",
                        "6.0 4.0 1.0\n",
                        "6.0 4.0 1.25\n",
                        "6.0 4.0 1.5\n",
                        "6.0 4.0 1.75\n",
                        "6.0 4.0 2.0\n",
                        "6.0 5.5 0.25\n",
                        "6.0 5.5 0.5\n",
                        "6.0 5.5 0.75\n",
                        "6.0 5.5 1.0\n",
                        "6.0 5.5 1.25\n",
                        "6.0 5.5 1.5\n",
                        "6.0 5.5 1.75\n",
                        "6.0 5.5 2.0\n",
                        "6.0 7.0 0.25\n",
                        "6.0 7.0 0.5\n",
                        "6.0 7.0 0.75\n",
                        "6.0 7.0 1.0\n",
                        "6.0 7.0 1.25\n",
                        "6.0 7.0 1.5\n",
                        "6.0 7.0 1.75\n",
                        "6.0 7.0 2.0\n",
                        "6.0 8.5 0.25\n",
                        "6.0 8.5 0.5\n",
                        "6.0 8.5 0.75\n",
                        "6.0 8.5 1.0\n",
                        "6.0 8.5 1.25\n",
                        "6.0 8.5 1.5\n",
                        "6.0 8.5 1.75\n",
                        "6.0 8.5 2.0\n",
                        "6.0 10.0 0.25\n",
                        "6.0 10.0 0.5\n",
                        "6.0 10.0 0.75\n",
                        "6.0 10.0 1.0\n",
                        "6.0 10.0 1.25\n",
                        "6.0 10.0 1.5\n",
                        "6.0 10.0 1.75\n",
                        "6.0 10.0 2.0\n",
                        "8.0 1.0 0.25\n",
                        "8.0 1.0 0.5\n",
                        "8.0 1.0 0.75\n",
                        "8.0 1.0 1.0\n",
                        "8.0 1.0 1.25\n",
                        "8.0 1.0 1.5\n",
                        "8.0 1.0 1.75\n",
                        "8.0 1.0 2.0\n",
                        "8.0 2.5 0.25\n",
                        "8.0 2.5 0.5\n",
                        "8.0 2.5 0.75\n",
                        "8.0 2.5 1.0\n",
                        "8.0 2.5 1.25\n",
                        "8.0 2.5 1.5\n",
                        "8.0 2.5 1.75\n",
                        "8.0 2.5 2.0\n",
                        "8.0 4.0 0.25\n",
                        "8.0 4.0 0.5\n",
                        "8.0 4.0 0.75\n",
                        "8.0 4.0 1.0\n",
                        "8.0 4.0 1.25\n",
                        "8.0 4.0 1.5\n",
                        "8.0 4.0 1.75\n",
                        "8.0 4.0 2.0\n",
                        "8.0 5.5 0.25\n",
                        "8.0 5.5 0.5\n",
                        "8.0 5.5 0.75\n",
                        "8.0 5.5 1.0\n",
                        "8.0 5.5 1.25\n",
                        "8.0 5.5 1.5\n",
                        "8.0 5.5 1.75\n",
                        "8.0 5.5 2.0\n",
                        "8.0 7.0 0.25\n",
                        "8.0 7.0 0.5\n",
                        "8.0 7.0 0.75\n",
                        "8.0 7.0 1.0\n",
                        "8.0 7.0 1.25\n",
                        "8.0 7.0 1.5\n",
                        "8.0 7.0 1.75\n",
                        "8.0 7.0 2.0\n",
                        "8.0 8.5 0.25\n",
                        "8.0 8.5 0.5\n",
                        "8.0 8.5 0.75\n",
                        "8.0 8.5 1.0\n",
                        "8.0 8.5 1.25\n",
                        "8.0 8.5 1.5\n",
                        "8.0 8.5 1.75\n",
                        "8.0 8.5 2.0\n",
                        "8.0 10.0 0.25\n",
                        "8.0 10.0 0.5\n",
                        "8.0 10.0 0.75\n",
                        "8.0 10.0 1.0\n",
                        "8.0 10.0 1.25\n",
                        "8.0 10.0 1.5\n",
                        "8.0 10.0 1.75\n",
                        "8.0 10.0 2.0\n",
                        "10.0 1.0 0.25\n",
                        "10.0 1.0 0.5\n",
                        "10.0 1.0 0.75\n",
                        "10.0 1.0 1.0\n",
                        "10.0 1.0 1.25\n",
                        "10.0 1.0 1.5\n",
                        "10.0 1.0 1.75\n",
                        "10.0 1.0 2.0\n",
                        "10.0 2.5 0.25\n",
                        "10.0 2.5 0.5\n",
                        "10.0 2.5 0.75\n",
                        "10.0 2.5 1.0\n",
                        "10.0 2.5 1.25\n",
                        "10.0 2.5 1.5\n",
                        "10.0 2.5 1.75\n",
                        "10.0 2.5 2.0\n",
                        "10.0 4.0 0.25\n",
                        "10.0 4.0 0.5\n",
                        "10.0 4.0 0.75\n",
                        "10.0 4.0 1.0\n",
                        "10.0 4.0 1.25\n",
                        "10.0 4.0 1.5\n",
                        "10.0 4.0 1.75\n",
                        "10.0 4.0 2.0\n",
                        "10.0 5.5 0.25\n",
                        "10.0 5.5 0.5\n",
                        "10.0 5.5 0.75\n",
                        "10.0 5.5 1.0\n",
                        "10.0 5.5 1.25\n",
                        "10.0 5.5 1.5\n",
                        "10.0 5.5 1.75\n",
                        "10.0 5.5 2.0\n",
                        "10.0 7.0 0.25\n",
                        "10.0 7.0 0.5\n",
                        "10.0 7.0 0.75\n",
                        "10.0 7.0 1.0\n",
                        "10.0 7.0 1.25\n",
                        "10.0 7.0 1.5\n",
                        "10.0 7.0 1.75\n",
                        "10.0 7.0 2.0\n",
                        "10.0 8.5 0.25\n",
                        "10.0 8.5 0.5\n",
                        "10.0 8.5 0.75\n",
                        "10.0 8.5 1.0\n",
                        "10.0 8.5 1.25\n",
                        "10.0 8.5 1.5\n",
                        "10.0 8.5 1.75\n",
                        "10.0 8.5 2.0\n",
                        "10.0 10.0 0.25\n",
                        "10.0 10.0 0.5\n",
                        "10.0 10.0 0.75\n",
                        "10.0 10.0 1.0\n",
                        "10.0 10.0 1.25\n",
                        "10.0 10.0 1.5\n",
                        "10.0 10.0 1.75\n",
                        "10.0 10.0 2.0\n"
                    ]
                }
            ],
            "source": [
                "# i.g. sourced form\n",
                "# 1. Dunbar 1993 (BEHAVIORAL AND BRAIN SCIENCES (1993) 16:4)\n",
                "# 2. Dunbar 2008, https://doi.org/10.1037/1089-2699.12.1.7\n",
                "# 3. Yellow (June 25, 2018)\n",
                "# (4. Lazily extrapolate N, nn from (x_{n+1})_n = n*ln(n) with n_0 = )\n",
                "\n",
                "nn = [10, (5, 15)]  # from 2\n",
                "N = [\n",
                "    1,  # for simple understanding\n",
                "    2,  # for simple understanding\n",
                "    150,  # from 1\n",
                "    500,  # from 3\n",
                "]\n",
                "\n",
                "# MA1 )\n",
                "sd_llf_arr = np.arange(0.25, 2.1, 0.25)\n",
                "nn_arr = np.arange(2.5, 21, 2.5)\n",
                "\n",
                "# MA2 )\n",
                "sd_arr = np.arange(0.25, 2.1, 0.25)\n",
                "\n",
                "# MA3 )\n",
                "mu_arr = np.arange(0, 10.1, 2)\n",
                "sd_arr = np.arange(1, 10.1, 1.5)\n",
                "r_arr = np.arange(1, 10.1, 1.5)"
            ]
        },
        {
            "cell_type": "code",
            "execution_count": 20,
            "metadata": {},
            "outputs": [
                {
                    "data": {
                        "text/plain": [
                            "299565282850689126664732061696902967868"
                        ]
                    },
                    "execution_count": 20,
                    "metadata": {},
                    "output_type": "execute_result"
                }
            ],
            "source": [
                "# out1 = nop.run_ConjMu(**nop.input_ref_ConjMu)\n",
                "out1 = nop.run_ConjMu(**input)\n",
                "out1[\"seed\"]"
            ]
        },
        {
            "cell_type": "code",
            "execution_count": 21,
            "metadata": {},
            "outputs": [],
            "source": [
                "nop.export_hdf5(out1, \"test.h5\")"
            ]
        },
        {
            "cell_type": "code",
            "execution_count": 22,
            "metadata": {},
            "outputs": [
                {
                    "data": {
                        "text/plain": [
                            "[<neuro_op.classes.NodeConjMu at 0x7c188bfd8690>,\n",
                            " <neuro_op.classes.NodeConjMu at 0x7c1882eaa9d0>,\n",
                            " <neuro_op.classes.NodeConjMu at 0x7c18f2b00a10>,\n",
                            " <neuro_op.classes.NodeConjMu at 0x7c18f2b01950>,\n",
                            " <neuro_op.classes.NodeConjMu at 0x7c188b82fa90>,\n",
                            " <neuro_op.classes.NodeConjMu at 0x7c188b82f090>,\n",
                            " <neuro_op.classes.NodeConjMu at 0x7c18cc239650>,\n",
                            " <neuro_op.classes.NodeConjMu at 0x7c18f35e35d0>,\n",
                            " <neuro_op.classes.NodeConjMu at 0x7c188bbfb110>,\n",
                            " <neuro_op.classes.NodeConjMu at 0x7c18ccee8990>,\n",
                            " <neuro_op.classes.NodeConjMu at 0x7c18dbf9df10>,\n",
                            " <neuro_op.classes.NodeConjMu at 0x7c188bf8c350>,\n",
                            " <neuro_op.classes.NodeConjMu at 0x7c18cd124c50>,\n",
                            " <neuro_op.classes.NodeConjMu at 0x7c188b83bdd0>,\n",
                            " <neuro_op.classes.NodeConjMu at 0x7c18d83f0d50>,\n",
                            " <neuro_op.classes.NodeConjMu at 0x7c188b83b410>,\n",
                            " <neuro_op.classes.NodeConjMu at 0x7c188bfc6a90>,\n",
                            " <neuro_op.classes.NodeConjMu at 0x7c18cea93c50>,\n",
                            " <neuro_op.classes.NodeConjMu at 0x7c18ce6a1750>,\n",
                            " <neuro_op.classes.NodeConjMu at 0x7c18ce046b10>,\n",
                            " <neuro_op.classes.NodeConjMu at 0x7c18ce046f10>,\n",
                            " <neuro_op.classes.NodeConjMu at 0x7c188bf1e1d0>,\n",
                            " <neuro_op.classes.NodeConjMu at 0x7c188bf1f690>,\n",
                            " <neuro_op.classes.NodeConjMu at 0x7c18cc60b390>,\n",
                            " <neuro_op.classes.NodeConjMu at 0x7c18cce5b590>,\n",
                            " <neuro_op.classes.NodeConjMu at 0x7c18cce5b350>,\n",
                            " <neuro_op.classes.NodeConjMu at 0x7c18cce5b790>,\n",
                            " <neuro_op.classes.NodeConjMu at 0x7c18cdb26b90>,\n",
                            " <neuro_op.classes.NodeConjMu at 0x7c18cf2dc090>,\n",
                            " <neuro_op.classes.NodeConjMu at 0x7c18d82c24d0>,\n",
                            " <neuro_op.classes.NodeConjMu at 0x7c18d82c2510>,\n",
                            " <neuro_op.classes.NodeConjMu at 0x7c18cc592390>,\n",
                            " <neuro_op.classes.NodeConjMu at 0x7c188bfec150>,\n",
                            " <neuro_op.classes.NodeConjMu at 0x7c188bfef310>,\n",
                            " <neuro_op.classes.NodeConjMu at 0x7c188bfee9d0>,\n",
                            " <neuro_op.classes.NodeConjMu at 0x7c18cc569910>,\n",
                            " <neuro_op.classes.NodeConjMu at 0x7c188b8161d0>,\n",
                            " <neuro_op.classes.NodeConjMu at 0x7c18f2b271d0>,\n",
                            " <neuro_op.classes.NodeConjMu at 0x7c188b866a90>,\n",
                            " <neuro_op.classes.NodeConjMu at 0x7c188b867650>,\n",
                            " <neuro_op.classes.NodeConjMu at 0x7c188b8648d0>,\n",
                            " <neuro_op.classes.NodeConjMu at 0x7c188b866750>,\n",
                            " <neuro_op.classes.NodeConjMu at 0x7c188b864cd0>,\n",
                            " <neuro_op.classes.NodeConjMu at 0x7c188b864ad0>,\n",
                            " <neuro_op.classes.NodeConjMu at 0x7c188b8645d0>,\n",
                            " <neuro_op.classes.NodeConjMu at 0x7c188b864490>,\n",
                            " <neuro_op.classes.NodeConjMu at 0x7c188b867f10>,\n",
                            " <neuro_op.classes.NodeConjMu at 0x7c188b867c10>,\n",
                            " <neuro_op.classes.NodeConjMu at 0x7c188b867e10>,\n",
                            " <neuro_op.classes.NodeConjMu at 0x7c188b866290>,\n",
                            " <neuro_op.classes.NodeConjMu at 0x7c18ce2d4850>,\n",
                            " <neuro_op.classes.NodeConjMu at 0x7c188b8676d0>,\n",
                            " <neuro_op.classes.NodeConjMu at 0x7c188b867b10>,\n",
                            " <neuro_op.classes.NodeConjMu at 0x7c188b857d50>,\n",
                            " <neuro_op.classes.NodeConjMu at 0x7c188b855bd0>,\n",
                            " <neuro_op.classes.NodeConjMu at 0x7c188b854e50>,\n",
                            " <neuro_op.classes.NodeConjMu at 0x7c188b857910>,\n",
                            " <neuro_op.classes.NodeConjMu at 0x7c188b857ad0>,\n",
                            " <neuro_op.classes.NodeConjMu at 0x7c188b856d50>,\n",
                            " <neuro_op.classes.NodeConjMu at 0x7c188b857fd0>,\n",
                            " <neuro_op.classes.NodeConjMu at 0x7c188b856c50>,\n",
                            " <neuro_op.classes.NodeConjMu at 0x7c188b855850>,\n",
                            " <neuro_op.classes.NodeConjMu at 0x7c18cc5d2850>,\n",
                            " <neuro_op.classes.NodeConjMu at 0x7c18cc5d33d0>,\n",
                            " <neuro_op.classes.NodeConjMu at 0x7c18cc0e3650>,\n",
                            " <neuro_op.classes.NodeConjMu at 0x7c18cc0e3790>,\n",
                            " <neuro_op.classes.NodeConjMu at 0x7c18cc0e3490>,\n",
                            " <neuro_op.classes.NodeConjMu at 0x7c18cc0e2410>,\n",
                            " <neuro_op.classes.NodeConjMu at 0x7c18ceb15150>,\n",
                            " <neuro_op.classes.NodeConjMu at 0x7c18cc0e3c10>,\n",
                            " <neuro_op.classes.NodeConjMu at 0x7c18cd180f10>,\n",
                            " <neuro_op.classes.NodeConjMu at 0x7c18cd180b90>,\n",
                            " <neuro_op.classes.NodeConjMu at 0x7c188b86cc90>,\n",
                            " <neuro_op.classes.NodeConjMu at 0x7c188b86d1d0>,\n",
                            " <neuro_op.classes.NodeConjMu at 0x7c188b86cb10>,\n",
                            " <neuro_op.classes.NodeConjMu at 0x7c188b86ce10>,\n",
                            " <neuro_op.classes.NodeConjMu at 0x7c188b86dc90>,\n",
                            " <neuro_op.classes.NodeConjMu at 0x7c188b86d890>,\n",
                            " <neuro_op.classes.NodeConjMu at 0x7c188b86d4d0>,\n",
                            " <neuro_op.classes.NodeConjMu at 0x7c188b86dad0>,\n",
                            " <neuro_op.classes.NodeConjMu at 0x7c188b86df90>,\n",
                            " <neuro_op.classes.NodeConjMu at 0x7c188b86e050>,\n",
                            " <neuro_op.classes.NodeConjMu at 0x7c188b86e210>,\n",
                            " <neuro_op.classes.NodeConjMu at 0x7c188b86e390>,\n",
                            " <neuro_op.classes.NodeConjMu at 0x7c188b86e590>,\n",
                            " <neuro_op.classes.NodeConjMu at 0x7c188b86e690>,\n",
                            " <neuro_op.classes.NodeConjMu at 0x7c188b86e850>,\n",
                            " <neuro_op.classes.NodeConjMu at 0x7c188b86e9d0>,\n",
                            " <neuro_op.classes.NodeConjMu at 0x7c188b86ebd0>,\n",
                            " <neuro_op.classes.NodeConjMu at 0x7c188b86ecd0>,\n",
                            " <neuro_op.classes.NodeConjMu at 0x7c188b86ee10>,\n",
                            " <neuro_op.classes.NodeConjMu at 0x7c188b86ef50>,\n",
                            " <neuro_op.classes.NodeConjMu at 0x7c188b86f110>,\n",
                            " <neuro_op.classes.NodeConjMu at 0x7c188b86f290>,\n",
                            " <neuro_op.classes.NodeConjMu at 0x7c188b86f490>,\n",
                            " <neuro_op.classes.NodeConjMu at 0x7c188b86f590>,\n",
                            " <neuro_op.classes.NodeConjMu at 0x7c188b86f750>,\n",
                            " <neuro_op.classes.NodeConjMu at 0x7c188b86f890>,\n",
                            " <neuro_op.classes.NodeConjMu at 0x7c188b86fa10>,\n",
                            " <neuro_op.classes.NodeConjMu at 0x7c188b86fc10>]"
                        ]
                    },
                    "execution_count": 22,
                    "metadata": {},
                    "output_type": "execute_result"
                }
            ],
            "source": [
                "out1 = nop.import_hdf5(\"test.h5\", True, True, True)"
            ]
        },
        {
            "cell_type": "markdown",
            "metadata": {},
            "source": [
                "## Data analysis\n",
                "\n",
                "Random data analysis test notebook of steps later used in thorough analysis.\n"
            ]
        },
        {
            "cell_type": "markdown",
            "metadata": {},
            "source": [
                "#### Data analysis 1\n",
                "\n",
                "Firstly, extract output values for further analysis:"
            ]
        },
        {
            "cell_type": "code",
            "execution_count": 23,
            "metadata": {},
            "outputs": [
                {
                    "name": "stdout",
                    "output_type": "stream",
                    "text": [
                        "world\n",
                        "G\n",
                        "N_events\n",
                        "t_end\n",
                        "t_start\n",
                        "t_exec\n",
                        "seed\n",
                        "nodesConjMu\n",
                        "mu_nodes\n",
                        "sd_nodes\n",
                        "kl_divs\n"
                    ]
                }
            ],
            "source": [
                "for i in out1.keys():\n",
                "    print(i)"
            ]
        },
        {
            "cell_type": "markdown",
            "metadata": {},
            "source": [
                "\n",
                "Each node's posteriors are plotted. One should see nodes' posteriors of model parameters (in this case, $\\mu$), to converge around the true value. If not, nodes may need more information to converge ($\\rightarrow$ increase $t_{max}, h$).\n"
            ]
        },
        {
            "cell_type": "code",
            "execution_count": 24,
            "metadata": {},
            "outputs": [
                {
                    "data": {
                        "text/plain": [
                            "(array([ 2.,  4.,  5.,  4., 13., 16., 10., 15., 11.,  7.,  1.,  3.,  2.,\n",
                            "         3.,  0.,  2.,  1.,  0.,  0.,  1.]),\n",
                            " array([0.03826366, 0.04142694, 0.04459023, 0.04775352, 0.0509168 ,\n",
                            "        0.05408009, 0.05724337, 0.06040666, 0.06356995, 0.06673323,\n",
                            "        0.06989652, 0.07305981, 0.07622309, 0.07938638, 0.08254967,\n",
                            "        0.08571295, 0.08887624, 0.09203952, 0.09520281, 0.0983661 ,\n",
                            "        0.10152938]),\n",
                            " <BarContainer object of 20 artists>)"
                        ]
                    },
                    "execution_count": 24,
                    "metadata": {},
                    "output_type": "execute_result"
                },
                {
                    "data": {
                        "image/png": "[encoded data removed]",
                        "text/plain": [
                            "<Figure size 300x150 with 1 Axes>"
                        ]
                    },
                    "metadata": {},
                    "output_type": "display_data"
                }
            ],
            "source": [
                "sigmas = []\n",
                "for i in out1[\"nodesConjMu\"]:\n",
                "    sigmas += [i.params_node[\"scale\"]]\n",
                "fig, ax = plt.subplots()\n",
                "ax.hist(sigmas, bins=20)"
            ]
        },
        {
            "cell_type": "code",
            "execution_count": 29,
            "metadata": {},
            "outputs": [
                {
                    "name": "stdout",
                    "output_type": "stream",
                    "text": [
                        "[[-1.14870951e+01  4.80000000e+01  4.20795603e-02]\n",
                        " [-1.08559243e+01  4.80000000e+01  1.69235658e-01]\n",
                        " [-2.18705692e+01  3.70000000e+01  2.32579198e-01]\n",
                        " ...\n",
                        " [-2.65452353e+00  5.80000000e+01  9.96105538e+01]\n",
                        " [ 1.58568616e+00 -1.00000000e+00  9.97203413e+01]\n",
                        " [-2.34370627e+00  3.70000000e+01  9.98676312e+01]]\n"
                    ]
                },
                {
                    "data": {
                        "image/png": "[encoded data removed]",
                        "text/plain": [
                            "<Figure size 300x150 with 1 Axes>"
                        ]
                    },
                    "metadata": {},
                    "output_type": "display_data"
                }
            ],
            "source": [
                "# Implement external sampling routine (or rather test if feasible)\n",
                "k = 0\n",
                "nody = out1[\"nodesConjMu\"][k]\n",
                "# mu_nody = np.array(out1[\"mu_nodes\"])[:, k][1:]\n",
                "#\n",
                "fig, ax = plt.subplots()\n",
                "# ax.plot(\n",
                "#    np.arange(input[\"t0\"], input[\"t_max\"], input[\"t_sample\"]),\n",
                "#    mu_nody,\n",
                "# )\n",
                "\n",
                "mu, sig = input[\"params_node\"].values()\n",
                "sd_llf = input[\"sd_llf\"]\n",
                "x_in = np.array(nody.diary_in)\n",
                "post_mu = x_in[:, 0]\n",
                "post_sig = np.zeros_like(post_mu)\n",
                "\n",
                "i = -1\n",
                "post_mu[i], post_sig[i] = mu, sig\n",
                "for i, _ in enumerate(x_in):\n",
                "    post_mu[i] = (post_sig[i - 1] ** 2 * x_in[i, 0] + sd_llf**2 * post_mu[i - 1]) / (\n",
                "        post_sig[i - 1] ** 2 + sd_llf**2\n",
                "    )\n",
                "    post_sig[i] = (1 / post_sig[i - 1] ** 2 + 1 / sd_llf**2) ** (-0.5)\n",
                "\n",
                "# ax.set_ylim(-1, 1)\n",
                "ax.plot(x_in[:, 2], post_mu, \"+\", alpha=1)\n",
                "ax.set_xlabel(\"$t$\")\n",
                "ax.set_ylabel(\"$MLE_i$\")\n",
                "\n",
                "print(nody.diary_in)\n",
                "# fig.savefig(\"graphics-output/TMP-mu_N1.png\", dpi=1500)"
            ]
        },
        {
            "cell_type": "code",
            "execution_count": 26,
            "metadata": {},
            "outputs": [
                {
                    "name": "stdout",
                    "output_type": "stream",
                    "text": [
                        "(101, 100)\n",
                        "101\n"
                    ]
                },
                {
                    "data": {
                        "image/png": "[encoded data removed]",
                        "text/plain": [
                            "<Figure size 300x150 with 1 Axes>"
                        ]
                    },
                    "metadata": {},
                    "output_type": "display_data"
                }
            ],
            "source": [
                "mu_arr = np.array(out1[\"mu_nodes\"])\n",
                "print(mu_arr.shape)\n",
                "x = np.arange(input[\"t0\"], input[\"t_max\"] + input[\"t_sample\"], input[\"t_sample\"])\n",
                "print(len(x))\n",
                "fig, ax = plt.subplots()\n",
                "for i, mu in enumerate(mu_arr.T):\n",
                "    ax.plot(x, mu, alpha=0.3, label=f\"$\\mu_{i}$\", color=\"tab:blue\")\n",
                "    ax.set_xlabel(\"$t$\")\n",
                "    ax.set_ylabel(\"$MLE_i$\")\n",
                "# ax.set_ylim(-100, 100)\n",
                "# ax.set_yscale(\"log\")\n",
                "# ax.loglog()\n",
                "# ax.legend()\n",
                "# fig.savefig(\"./graphics-output/TMP-mu_nodes.png\", dpi=1500)"
            ]
        },
        {
            "cell_type": "markdown",
            "metadata": {},
            "source": [
                "#### Data analysis 2"
            ]
        },
        {
            "cell_type": "code",
            "execution_count": 27,
            "metadata": {},
            "outputs": [
                {
                    "data": {
                        "text/plain": [
                            "(1, 100)"
                        ]
                    },
                    "execution_count": 27,
                    "metadata": {},
                    "output_type": "execute_result"
                },
                {
                    "data": {
                        "image/png": "[encoded data removed]",
                        "text/plain": [
                            "<Figure size 300x450 with 3 Axes>"
                        ]
                    },
                    "metadata": {},
                    "output_type": "display_data"
                }
            ],
            "source": [
                "# for i in N_iter:\n",
                "#    plt.plot(input[\"t_sample\"] * np.arange(0, kld.shape[0]), kld[:, i, ])\n",
                "kld = np.array(out1[\"kl_divs\"])\n",
                "fig, ax = plt.subplots(3, 1, constrained_layout=True, figsize=(3, 4.5))\n",
                "x = input[\"t_sample\"] * np.arange(0, kld.shape[0])\n",
                "for i, _ in enumerate(ax):\n",
                "    ax[i].plot(\n",
                "        x,  # input[\"t_sample\"] * np.arange(0, kld.shape[0]),\n",
                "        kld.mean(axis=1),\n",
                "        label=\"$KLD_i$\",\n",
                "    )\n",
                "    ax[i].set_ylabel(r\"$KLD(P||\\langle Q \\rangle )$\")\n",
                "    ax[i].set_xlim(0, x[-1])\n",
                "ax[2].set_xlabel(\"$t$\")\n",
                "ax[1].set_yscale(\"log\")\n",
                "ax[2].loglog()\n",
                "ax[2].set_xlim(input[\"t_sample\"], input[\"t_max\"])\n",
                "# fig.savefig(\"./graphics-output/TMP-KLD.png\", dpi=1500)"
            ]
        },
        {
            "cell_type": "code",
            "execution_count": 28,
            "metadata": {},
            "outputs": [
                {
                    "name": "stdout",
                    "output_type": "stream",
                    "text": [
                        "(101, 100)\n"
                    ]
                },
                {
                    "data": {
                        "image/png": "[encoded data removed]",
                        "text/plain": [
                            "<Figure size 300x150 with 1 Axes>"
                        ]
                    },
                    "metadata": {},
                    "output_type": "display_data"
                }
            ],
            "source": [
                "# for i in N_iter:\n",
                "#    plt.plot(input[\"t_sample\"] * np.arange(0, kld.shape[0]), kld[:, i, ])\n",
                "kld = np.array(out1[\"kl_divs\"])\n",
                "print(kld.shape)\n",
                "fig, ax = plt.subplots(constrained_layout=True, figsize=(3, 1.5))\n",
                "for i, _ in enumerate(kld.T):\n",
                "    ax.plot(\n",
                "        input[\"t_sample\"] * np.arange(0, kld.shape[0]),\n",
                "        kld[:, i],\n",
                "        label=\"avg\",\n",
                "    )\n",
                "# plt.loglog()\n",
                "# plt.ylim(0, 2)"
            ]
        },
        {
            "cell_type": "code",
            "execution_count": null,
            "metadata": {},
            "outputs": [],
            "source": []
        }
    ],
    "metadata": {
        "kernelspec": {
            "display_name": "neuro_op",
            "language": "python",
            "name": "python3"
        },
        "language_info": {
            "codemirror_mode": {
                "name": "ipython",
                "version": 3
            },
            "file_extension": ".py",
            "mimetype": "text/x-python",
            "name": "python",
            "nbconvert_exporter": "python",
            "pygments_lexer": "ipython3",
            "version": "3.11.10"
        },
        "orig_nbformat": 4
    },
    "nbformat": 4,
    "nbformat_minor": 2
}
