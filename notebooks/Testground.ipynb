{
    "cells": [
        {
            "cell_type": "code",
            "execution_count": 1,
            "metadata": {},
            "outputs": [],
            "source": [
                "import copy\n",
                "\n",
                "# import cProfile\n",
                "import itertools\n",
                "\n",
                "import matplotlib.pyplot as plt\n",
                "import networkx as nx\n",
                "import numpy as np\n",
                "import scipy.stats as st\n",
                "\n",
                "import neuro_op as nop"
            ]
        },
        {
            "cell_type": "code",
            "execution_count": 2,
            "metadata": {},
            "outputs": [],
            "source": [
                "nop.plot_setup()"
            ]
        },
        {
            "cell_type": "code",
            "execution_count": 3,
            "metadata": {},
            "outputs": [],
            "source": [
                "# Reference input, to be adapted, just here for reference\n",
                "input = dict(\n",
                "    #    G=nop.build_random_network(N_nodes=100, N_neighbours=50),\n",
                "    G=nx.empty_graph(1),\n",
                "    llf_nodes=st.norm,\n",
                "    params_node=dict(\n",
                "        loc=0,\n",
                "        scale=1,\n",
                "    ),\n",
                "    sd_llf=1,\n",
                "    llf_world=st.norm,\n",
                "    params_world=dict(\n",
                "        loc=0,\n",
                "        scale=1,\n",
                "    ),\n",
                "    h=1,\n",
                "    r=0,\n",
                "    t0=0,\n",
                "    t_max=1e2,\n",
                "    t_sample=1,\n",
                "    sampling=True,\n",
                "    actInf=True,\n",
                "    init_rngs=False,\n",
                "    seed=False,\n",
                ")"
            ]
        },
        {
            "cell_type": "code",
            "execution_count": 4,
            "metadata": {},
            "outputs": [],
            "source": [
                "# i.g. sourced form\n",
                "# 1. Dunbar 1993 (BEHAVIORAL AND BRAIN SCIENCES (1993) 16:4)\n",
                "# 2. Dunbar 2008, https://doi.org/10.1037/1089-2699.12.1.7\n",
                "# 3. Yellow (June 25, 2018)\n",
                "# (4. Lazily extrapolate N, nn from (x_{n+1})_n = n*ln(n) with n_0 = )\n",
                "\n",
                "nn = [10, (5, 15)]  # from 2\n",
                "N = [\n",
                "    1,  # for simple understanding\n",
                "    2,  # for simple understanding\n",
                "    150,  # from 1\n",
                "    500,  # from 3\n",
                "]\n",
                "\n",
                "# MA0 )\n",
                "nn_arr = np.round(\n",
                "    np.concatenate(([1], np.arange(2, 11, 2), np.arange(30, 150, 30), [149])), 0\n",
                ")\n",
                "\n",
                "# MA1 )\n",
                "sd_llf_arr = np.arange(0.25, 2.1, 0.25)\n",
                "nn_arr = np.arange(2.5, 21, 2.5)\n",
                "\n",
                "# MA2 )\n",
                "sd_arr = np.arange(0.25, 2.1, 0.25)\n",
                "\n",
                "# MA3 )\n",
                "mu_arr = np.arange(0, 10.1, 2)\n",
                "sd_arr = np.arange(1, 10.1, 1.5)\n",
                "r_arr = np.arange(1, 10.1, 1.5)"
            ]
        },
        {
            "cell_type": "code",
            "execution_count": 5,
            "metadata": {},
            "outputs": [
                {
                    "name": "stdout",
                    "output_type": "stream",
                    "text": [
                        "10.0\n",
                        "10.0\n",
                        "10.0\n",
                        "10.0\n",
                        "10.0\n",
                        "10.0\n",
                        "10.0\n",
                        "10.0\n",
                        "10.0\n",
                        "10.0\n",
                        "10.0\n",
                        "10.0\n",
                        "10.0\n",
                        "10.0\n",
                        "10.0\n",
                        "10.0\n",
                        "10.0\n",
                        "10.0\n",
                        "10.0\n",
                        "10.0\n",
                        "10.0\n",
                        "10.0\n",
                        "10.0\n",
                        "10.0\n",
                        "10.0\n",
                        "10.0\n",
                        "10.0\n",
                        "10.0\n",
                        "10.0\n",
                        "10.0\n",
                        "10.0\n",
                        "10.0\n",
                        "10.0\n",
                        "10.0\n",
                        "10.0\n",
                        "10.0\n",
                        "10.0\n",
                        "10.0\n",
                        "10.0\n",
                        "10.0\n",
                        "10.0\n",
                        "10.0\n",
                        "10.0\n",
                        "10.0\n",
                        "10.0\n",
                        "10.0\n",
                        "10.0\n",
                        "10.0\n",
                        "10.0\n",
                        "10.0\n",
                        "10.0\n",
                        "10.0\n",
                        "10.0\n",
                        "10.0\n",
                        "10.0\n",
                        "10.0\n",
                        "10.0\n",
                        "10.0\n",
                        "10.0\n",
                        "10.0\n",
                        "10.0\n",
                        "10.0\n",
                        "10.0\n",
                        "10.0\n",
                        "10.0\n",
                        "10.0\n",
                        "10.0\n",
                        "10.0\n",
                        "10.0\n",
                        "10.0\n",
                        "10.0\n",
                        "10.0\n",
                        "10.0\n",
                        "10.0\n",
                        "10.0\n",
                        "10.0\n",
                        "10.0\n",
                        "10.0\n",
                        "10.0\n",
                        "10.0\n",
                        "10.0\n",
                        "10.0\n",
                        "10.0\n",
                        "10.0\n",
                        "10.0\n",
                        "10.0\n",
                        "10.0\n",
                        "10.0\n",
                        "10.0\n",
                        "10.0\n"
                    ]
                },
                {
                    "name": "stderr",
                    "output_type": "stream",
                    "text": [
                        "/home/jens/conda/envs/neuro_op/lib/python3.11/site-packages/numpy/lib/scimath.py:386: RuntimeWarning: divide by zero encountered in log\n",
                        "  return nx.log(x)/nx.log(n)\n"
                    ]
                }
            ],
            "source": [
                "# out1 = nop.run_ConjMu(**nop.input_ref_ConjMu)\n",
                "out1 = nop.run_ConjMu(**input)"
            ]
        },
        {
            "cell_type": "code",
            "execution_count": 6,
            "metadata": {},
            "outputs": [],
            "source": [
                "nop.export_hdf5(out1, \"test.h5\")"
            ]
        },
        {
            "cell_type": "code",
            "execution_count": 7,
            "metadata": {},
            "outputs": [
                {
                    "name": "stdout",
                    "output_type": "stream",
                    "text": [
                        "[9.85773515]\n"
                    ]
                },
                {
                    "data": {
                        "text/plain": [
                            "array([9.85773515])"
                        ]
                    },
                    "execution_count": 7,
                    "metadata": {},
                    "output_type": "execute_result"
                }
            ],
            "source": [
                "n = (st.norm.pdf(loc=0, scale=0.5, x=0),)\n",
                "x = (st.norm.pdf(loc=0, scale=0.5, x=1),)\n",
                "print(np.emath.logn(n, x))\n",
                "np.log(x) / np.log(n)"
            ]
        },
        {
            "cell_type": "code",
            "execution_count": 8,
            "metadata": {},
            "outputs": [],
            "source": [
                "out1 = nop.import_hdf5(\"test.h5\", True, True, True)"
            ]
        },
        {
            "cell_type": "markdown",
            "metadata": {},
            "source": [
                "## Data analysis\n",
                "\n",
                "Random data analysis test notebook of steps later used in thorough analysis.\n"
            ]
        },
        {
            "cell_type": "markdown",
            "metadata": {},
            "source": [
                "#### Data analysis 1\n",
                "\n",
                "Firstly, extract output values for further analysis:"
            ]
        },
        {
            "cell_type": "code",
            "execution_count": 9,
            "metadata": {},
            "outputs": [
                {
                    "name": "stdout",
                    "output_type": "stream",
                    "text": [
                        "world\n",
                        "G\n",
                        "N_events\n",
                        "t_end\n",
                        "t_start\n",
                        "t_exec\n",
                        "seed\n",
                        "nodesConjMu\n",
                        "mu_nodes\n",
                        "sd_nodes\n",
                        "kl_divs\n"
                    ]
                }
            ],
            "source": [
                "for i in out1.keys():\n",
                "    print(i)"
            ]
        },
        {
            "cell_type": "markdown",
            "metadata": {},
            "source": [
                "\n",
                "Each node's posteriors are plotted. One should see nodes' posteriors of model parameters (in this case, $\\mu$), to converge around the true value. If not, nodes may need more information to converge ($\\rightarrow$ increase $t_{max}, h$).\n"
            ]
        },
        {
            "cell_type": "code",
            "execution_count": 10,
            "metadata": {},
            "outputs": [
                {
                    "data": {
                        "text/plain": [
                            "(array([0., 0., 0., 0., 0., 0., 0., 0., 0., 0., 1., 0., 0., 0., 0., 0., 0.,\n",
                            "        0., 0., 0.]),\n",
                            " array([0.08823529, 0.13823529, 0.18823529, 0.23823529, 0.28823529,\n",
                            "        0.33823529, 0.38823529, 0.43823529, 0.48823529, 0.53823529,\n",
                            "        0.58823529, 0.63823529, 0.68823529, 0.73823529, 0.78823529,\n",
                            "        0.83823529, 0.88823529, 0.93823529, 0.98823529, 1.03823529,\n",
                            "        1.08823529]),\n",
                            " <BarContainer object of 20 artists>)"
                        ]
                    },
                    "execution_count": 10,
                    "metadata": {},
                    "output_type": "execute_result"
                },
                {
                    "data": {
                        "image/png": "[encoded data removed]",
                        "text/plain": [
                            "<Figure size 300x150 with 1 Axes>"
                        ]
                    },
                    "metadata": {},
                    "output_type": "display_data"
                }
            ],
            "source": [
                "sigmas = []\n",
                "for i in out1[\"nodesConjMu\"]:\n",
                "    sigmas += [i.params_node[\"scale\"]]\n",
                "fig, ax = plt.subplots()\n",
                "ax.hist(sigmas, bins=20)"
            ]
        },
        {
            "cell_type": "code",
            "execution_count": 11,
            "metadata": {},
            "outputs": [
                {
                    "name": "stdout",
                    "output_type": "stream",
                    "text": [
                        "[[ 1.08814969e+01 -1.00000000e+00  0.00000000e+00]\n",
                        " [-3.06991575e+00 -1.00000000e+00  3.16307415e-01]\n",
                        " [-2.44053892e+00 -1.00000000e+00  4.35666019e+00]\n",
                        " [-1.58607322e+01 -1.00000000e+00  5.15600050e+00]\n",
                        " [-6.35081390e-02 -1.00000000e+00  5.24359389e+00]\n",
                        " [-5.38944730e+00 -1.00000000e+00  6.07153656e+00]\n",
                        " [ 1.54359695e+01 -1.00000000e+00  6.38695554e+00]\n",
                        " [-1.18289557e+01 -1.00000000e+00  7.20070987e+00]\n",
                        " [ 1.02910359e+01 -1.00000000e+00  8.30630719e+00]\n",
                        " [ 1.29960280e+00 -1.00000000e+00  8.72730050e+00]\n",
                        " [-4.69876576e+00 -1.00000000e+00  9.32318545e+00]\n",
                        " [ 7.96174743e+00 -1.00000000e+00  1.21390172e+01]\n",
                        " [-1.27950635e+01 -1.00000000e+00  1.34064086e+01]\n",
                        " [-1.14415398e+01 -1.00000000e+00  1.40317508e+01]\n",
                        " [-1.66101513e+01 -1.00000000e+00  1.66246336e+01]\n",
                        " [ 1.47543651e+01 -1.00000000e+00  1.67744668e+01]\n",
                        " [ 6.87399014e+00 -1.00000000e+00  1.69385788e+01]\n",
                        " [ 4.91106503e+00 -1.00000000e+00  1.78235094e+01]\n",
                        " [-5.95452291e+00 -1.00000000e+00  1.93334768e+01]\n",
                        " [ 7.34270575e+00 -1.00000000e+00  1.94235486e+01]\n",
                        " [ 6.39693836e+00 -1.00000000e+00  2.04588687e+01]\n",
                        " [-1.13081710e+01 -1.00000000e+00  2.11335297e+01]\n",
                        " [ 1.10880482e+01 -1.00000000e+00  2.33054803e+01]\n",
                        " [ 1.04254415e+00 -1.00000000e+00  2.51280772e+01]\n",
                        " [ 2.04968107e+00 -1.00000000e+00  2.53165376e+01]\n",
                        " [ 7.06012505e+00 -1.00000000e+00  2.66213494e+01]\n",
                        " [ 4.73125149e+00 -1.00000000e+00  2.72540887e+01]\n",
                        " [-1.04960688e+01 -1.00000000e+00  2.94100500e+01]\n",
                        " [ 1.23682074e+01 -1.00000000e+00  2.95429661e+01]\n",
                        " [ 1.11156034e+01 -1.00000000e+00  3.16088508e+01]\n",
                        " [-3.38350849e+00 -1.00000000e+00  3.26552468e+01]\n",
                        " [ 2.03921144e+01 -1.00000000e+00  3.33009842e+01]\n",
                        " [ 7.96309719e+00 -1.00000000e+00  3.40804743e+01]\n",
                        " [-1.25004565e+01 -1.00000000e+00  3.51766180e+01]\n",
                        " [-6.52127366e+00 -1.00000000e+00  3.62546418e+01]\n",
                        " [-3.66267032e+00 -1.00000000e+00  3.91118864e+01]\n",
                        " [ 2.81007702e+00 -1.00000000e+00  4.06881678e+01]\n",
                        " [-3.20328239e+00 -1.00000000e+00  4.08789563e+01]\n",
                        " [ 3.28604352e+00 -1.00000000e+00  4.13138591e+01]\n",
                        " [-1.69559846e+00 -1.00000000e+00  4.16655822e+01]\n",
                        " [ 7.95555265e+00 -1.00000000e+00  4.44760220e+01]\n",
                        " [ 1.23242869e+01 -1.00000000e+00  4.51160862e+01]\n",
                        " [-7.29791461e+00 -1.00000000e+00  4.54359789e+01]\n",
                        " [ 5.11465354e+00 -1.00000000e+00  4.55895536e+01]\n",
                        " [-5.38195602e+00 -1.00000000e+00  4.75252741e+01]\n",
                        " [ 2.36317995e-01 -1.00000000e+00  4.96717602e+01]\n",
                        " [ 2.02284261e+01 -1.00000000e+00  5.01324496e+01]\n",
                        " [-2.61206300e+00 -1.00000000e+00  5.30372412e+01]\n",
                        " [-1.28345313e+01 -1.00000000e+00  5.31551199e+01]\n",
                        " [ 4.91855068e+00 -1.00000000e+00  5.37111950e+01]\n",
                        " [ 1.64586474e+01 -1.00000000e+00  5.37912765e+01]\n",
                        " [-1.20254017e+01 -1.00000000e+00  5.38207301e+01]\n",
                        " [ 6.67377858e+00 -1.00000000e+00  5.49939937e+01]\n",
                        " [-1.06067362e+01 -1.00000000e+00  5.62615288e+01]\n",
                        " [ 4.84171040e+00 -1.00000000e+00  6.26460069e+01]\n",
                        " [ 7.52962405e+00 -1.00000000e+00  6.30240444e+01]\n",
                        " [-1.80019456e-01 -1.00000000e+00  6.36683239e+01]\n",
                        " [ 2.43039215e+01 -1.00000000e+00  6.37137142e+01]\n",
                        " [ 9.02949357e+00 -1.00000000e+00  6.40485668e+01]\n",
                        " [ 9.32325014e+00 -1.00000000e+00  6.57919470e+01]\n",
                        " [ 8.24876725e+00 -1.00000000e+00  6.59665670e+01]\n",
                        " [-1.13966667e+01 -1.00000000e+00  6.61792110e+01]\n",
                        " [-6.49286876e+00 -1.00000000e+00  6.67540537e+01]\n",
                        " [ 7.70256642e+00 -1.00000000e+00  6.81591484e+01]\n",
                        " [-1.43020273e+01 -1.00000000e+00  6.83873253e+01]\n",
                        " [ 4.31962805e+00 -1.00000000e+00  6.87203063e+01]\n",
                        " [-2.65094768e+00 -1.00000000e+00  6.90976791e+01]\n",
                        " [ 1.88440295e+01 -1.00000000e+00  6.94126192e+01]\n",
                        " [-8.40113582e+00 -1.00000000e+00  6.95949771e+01]\n",
                        " [ 2.59633392e+00 -1.00000000e+00  7.02038113e+01]\n",
                        " [ 1.84014937e+00 -1.00000000e+00  7.32945428e+01]\n",
                        " [ 3.53574907e+00 -1.00000000e+00  7.34823876e+01]\n",
                        " [-7.86219138e+00 -1.00000000e+00  7.44027362e+01]\n",
                        " [-6.32560128e+00 -1.00000000e+00  7.65899196e+01]\n",
                        " [-4.76521467e+00 -1.00000000e+00  7.86279734e+01]\n",
                        " [ 1.16659665e+01 -1.00000000e+00  7.94708153e+01]\n",
                        " [-4.27767437e+00 -1.00000000e+00  7.94834111e+01]\n",
                        " [-1.66510003e+00 -1.00000000e+00  8.51177328e+01]\n",
                        " [ 4.54765228e+00 -1.00000000e+00  8.63075551e+01]\n",
                        " [ 1.31218121e+01 -1.00000000e+00  8.69910121e+01]\n",
                        " [-6.62407331e+00 -1.00000000e+00  8.86736244e+01]\n",
                        " [-8.40516780e+00 -1.00000000e+00  8.95053724e+01]\n",
                        " [-3.38204688e+00 -1.00000000e+00  9.03231304e+01]\n",
                        " [ 1.16325380e+01 -1.00000000e+00  9.18262364e+01]\n",
                        " [-6.94013779e+00 -1.00000000e+00  9.47297648e+01]\n",
                        " [-1.10958310e+01 -1.00000000e+00  9.50026057e+01]\n",
                        " [-1.30034635e+01 -1.00000000e+00  9.56855567e+01]\n",
                        " [-2.04203760e+01 -1.00000000e+00  9.57690422e+01]\n",
                        " [-2.62645422e+00 -1.00000000e+00  9.67442513e+01]\n",
                        " [ 3.81216662e+00 -1.00000000e+00  9.92538964e+01]]\n"
                    ]
                },
                {
                    "data": {
                        "image/png": "[encoded data removed]",
                        "text/plain": [
                            "<Figure size 300x150 with 1 Axes>"
                        ]
                    },
                    "metadata": {},
                    "output_type": "display_data"
                }
            ],
            "source": [
                "# Implement external sampling routine (or rather test if feasible)\n",
                "k = 0\n",
                "nody = out1[\"nodesConjMu\"][k]\n",
                "# mu_nody = np.array(out1[\"mu_nodes\"])[:, k][1:]\n",
                "#\n",
                "fig, ax = plt.subplots()\n",
                "# ax.plot(\n",
                "#    np.arange(input[\"t0\"], input[\"t_max\"], input[\"t_sample\"]),\n",
                "#    mu_nody,\n",
                "# )\n",
                "\n",
                "mu, sig = input[\"params_node\"].values()\n",
                "sd_llf = input[\"sd_llf\"]\n",
                "x_in = np.array(nody.diary_in)\n",
                "post_mu = x_in[:, 0]\n",
                "post_sig = np.zeros_like(post_mu)\n",
                "\n",
                "i = -1\n",
                "post_mu[i], post_sig[i] = mu, sig\n",
                "for i, _ in enumerate(x_in):\n",
                "    post_mu[i] = (post_sig[i - 1] ** 2 * x_in[i, 0] + sd_llf**2 * post_mu[i - 1]) / (\n",
                "        post_sig[i - 1] ** 2 + sd_llf**2\n",
                "    )\n",
                "    post_sig[i] = (1 / post_sig[i - 1] ** 2 + 1 / sd_llf**2) ** (-0.5)\n",
                "\n",
                "# ax.set_ylim(-1, 1)\n",
                "ax.plot(x_in[:, 2], post_mu, \"+\", alpha=1)\n",
                "ax.set_xlabel(\"$t$\")\n",
                "ax.set_ylabel(\"$MLE_i$\")\n",
                "\n",
                "print(nody.diary_in)\n",
                "# fig.savefig(\"graphics-output/TMP-mu_N1.png\", dpi=1500)"
            ]
        },
        {
            "cell_type": "code",
            "execution_count": 12,
            "metadata": {},
            "outputs": [
                {
                    "name": "stdout",
                    "output_type": "stream",
                    "text": [
                        "(101, 1)\n",
                        "101\n"
                    ]
                },
                {
                    "data": {
                        "image/png": "[encoded data removed]",
                        "text/plain": [
                            "<Figure size 300x150 with 1 Axes>"
                        ]
                    },
                    "metadata": {},
                    "output_type": "display_data"
                }
            ],
            "source": [
                "mu_arr = np.array(out1[\"mu_nodes\"])\n",
                "print(mu_arr.shape)\n",
                "x = np.arange(input[\"t0\"], input[\"t_max\"] + input[\"t_sample\"], input[\"t_sample\"])\n",
                "print(len(x))\n",
                "fig, ax = plt.subplots()\n",
                "for i, mu in enumerate(mu_arr.T):\n",
                "    ax.plot(x, mu, alpha=0.3, label=f\"$\\mu_{i}$\", color=\"tab:blue\")\n",
                "    ax.set_xlabel(\"$t$\")\n",
                "    ax.set_ylabel(\"$MLE_i$\")\n",
                "# ax.set_ylim(-100, 100)\n",
                "# ax.set_yscale(\"log\")\n",
                "# ax.loglog()\n",
                "# ax.legend()\n",
                "# fig.savefig(\"./graphics-output/TMP-mu_nodes.png\", dpi=1500)"
            ]
        },
        {
            "cell_type": "markdown",
            "metadata": {},
            "source": [
                "#### Data analysis 2"
            ]
        },
        {
            "cell_type": "code",
            "execution_count": 13,
            "metadata": {},
            "outputs": [
                {
                    "data": {
                        "text/plain": [
                            "(1, 100.0)"
                        ]
                    },
                    "execution_count": 13,
                    "metadata": {},
                    "output_type": "execute_result"
                },
                {
                    "data": {
                        "image/png": "[encoded data removed]",
                        "text/plain": [
                            "<Figure size 300x450 with 3 Axes>"
                        ]
                    },
                    "metadata": {},
                    "output_type": "display_data"
                }
            ],
            "source": [
                "# for i in N_iter:\n",
                "#    plt.plot(input[\"t_sample\"] * np.arange(0, kld.shape[0]), kld[:, i, ])\n",
                "kld = np.array(out1[\"kl_divs\"])\n",
                "fig, ax = plt.subplots(3, 1, constrained_layout=True, figsize=(3, 4.5))\n",
                "x = input[\"t_sample\"] * np.arange(0, kld.shape[0])\n",
                "for i, _ in enumerate(ax):\n",
                "    ax[i].plot(\n",
                "        x,  # input[\"t_sample\"] * np.arange(0, kld.shape[0]),\n",
                "        kld.mean(axis=1),\n",
                "        label=\"$KLD_i$\",\n",
                "    )\n",
                "    ax[i].set_ylabel(r\"$KLD(P||\\langle Q \\rangle )$\")\n",
                "    ax[i].set_xlim(0, x[-1])\n",
                "ax[2].set_xlabel(\"$t$\")\n",
                "ax[1].set_yscale(\"log\")\n",
                "ax[2].loglog()\n",
                "ax[2].set_xlim(input[\"t_sample\"], input[\"t_max\"])\n",
                "# fig.savefig(\"./graphics-output/TMP-KLD.png\", dpi=1500)"
            ]
        },
        {
            "cell_type": "code",
            "execution_count": 14,
            "metadata": {},
            "outputs": [
                {
                    "name": "stdout",
                    "output_type": "stream",
                    "text": [
                        "(101, 1)\n"
                    ]
                },
                {
                    "data": {
                        "image/png": "[encoded data removed]",
                        "text/plain": [
                            "<Figure size 300x150 with 1 Axes>"
                        ]
                    },
                    "metadata": {},
                    "output_type": "display_data"
                }
            ],
            "source": [
                "# for i in N_iter:\n",
                "#    plt.plot(input[\"t_sample\"] * np.arange(0, kld.shape[0]), kld[:, i, ])\n",
                "kld = np.array(out1[\"kl_divs\"])\n",
                "print(kld.shape)\n",
                "fig, ax = plt.subplots(constrained_layout=True, figsize=(3, 1.5))\n",
                "for i, _ in enumerate(kld.T):\n",
                "    ax.plot(\n",
                "        input[\"t_sample\"] * np.arange(0, kld.shape[0]),\n",
                "        kld[:, i],\n",
                "        label=\"avg\",\n",
                "    )\n",
                "# plt.loglog()\n",
                "# plt.ylim(0, 2)"
            ]
        },
        {
            "cell_type": "code",
            "execution_count": null,
            "metadata": {},
            "outputs": [],
            "source": []
        }
    ],
    "metadata": {
        "kernelspec": {
            "display_name": "neuro_op",
            "language": "python",
            "name": "python3"
        },
        "language_info": {
            "codemirror_mode": {
                "name": "ipython",
                "version": 3
            },
            "file_extension": ".py",
            "mimetype": "text/x-python",
            "name": "python",
            "nbconvert_exporter": "python",
            "pygments_lexer": "ipython3",
            "version": "3.11.10"
        },
        "orig_nbformat": 4
    },
    "nbformat": 4,
    "nbformat_minor": 2
}
