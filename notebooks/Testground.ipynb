{
    "cells": [
        {
            "cell_type": "code",
            "execution_count": 15,
            "metadata": {},
            "outputs": [],
            "source": [
                "import copy\n",
                "\n",
                "# import cProfile\n",
                "import itertools\n",
                "\n",
                "import matplotlib.pyplot as plt\n",
                "import networkx as nx\n",
                "import numpy as np\n",
                "import scipy.stats as st\n",
                "\n",
                "import neuro_op as nop"
            ]
        },
        {
            "cell_type": "code",
            "execution_count": 16,
            "metadata": {},
            "outputs": [],
            "source": [
                "nop.plot_setup()"
            ]
        },
        {
            "cell_type": "code",
            "execution_count": 17,
            "metadata": {},
            "outputs": [],
            "source": [
                "# Reference input, to be adapted, just here for reference\n",
                "input = dict(\n",
                "    G=nop.build_random_network(N_nodes=100, N_neighbours=15),\n",
                "    # G=nx.empty_graph(150),\n",
                "    llf_nodes=st.norm,\n",
                "    params_node=dict(\n",
                "        loc=0,\n",
                "        scale=10,\n",
                "    ),\n",
                "    sd_llf=1,\n",
                "    llf_world=st.norm,\n",
                "    params_world=dict(\n",
                "        loc=0,\n",
                "        scale=1,\n",
                "    ),\n",
                "    h=1,\n",
                "    r=1,\n",
                "    t0=0,\n",
                "    t_max=50,\n",
                "    t_sample=1,\n",
                "    sampling=True,\n",
                "    actInf=1,\n",
                "    init_rngs=False,\n",
                "    seed=False,\n",
                ")"
            ]
        },
        {
            "cell_type": "code",
            "execution_count": 18,
            "metadata": {},
            "outputs": [],
            "source": [
                "# i.g. sourced form\n",
                "# 1. Dunbar 1993 (BEHAVIORAL AND BRAIN SCIENCES (1993) 16:4)\n",
                "# 2. Dunbar 2008, https://doi.org/10.1037/1089-2699.12.1.7\n",
                "# 3. Yellow (June 25, 2018)\n",
                "# (4. Lazily extrapolate N, nn from (x_{n+1})_n = n*ln(n) with n_0 = )\n",
                "\n",
                "nn = [10, (5, 15)]  # from 2\n",
                "N = [\n",
                "    1,  # for simple understanding\n",
                "    2,  # for simple understanding\n",
                "    150,  # from 1\n",
                "    500,  # from 3\n",
                "]\n",
                "\n",
                "# MA0 )\n",
                "nn_arr = np.round(\n",
                "    np.concatenate(([1], np.arange(2, 11, 2), np.arange(30, 150, 30), [149])), 0\n",
                ")\n",
                "\n",
                "# MA1 )\n",
                "sd_llf_arr = np.arange(0.25, 2.1, 0.25)\n",
                "nn_arr = np.arange(2.5, 21, 2.5)\n",
                "\n",
                "# MA2 )\n",
                "sd_arr = np.arange(0.25, 2.1, 0.25)\n",
                "\n",
                "# MA3 )\n",
                "mu_arr = np.arange(0, 10.1, 2)\n",
                "sd_arr = np.arange(1, 10.1, 1.5)\n",
                "r_arr = np.arange(1, 10.1, 1.5)"
            ]
        },
        {
            "cell_type": "code",
            "execution_count": 19,
            "metadata": {},
            "outputs": [],
            "source": [
                "# out1 = nop.run_ConjMu(**nop.input_ref_ConjMu)\n",
                "out1 = nop.run_ConjMu(**input)"
            ]
        },
        {
            "cell_type": "code",
            "execution_count": 20,
            "metadata": {},
            "outputs": [],
            "source": [
                "nop.export_hdf5(out1, \"test.h5\")"
            ]
        },
        {
            "cell_type": "code",
            "execution_count": 21,
            "metadata": {},
            "outputs": [],
            "source": [
                "out1 = nop.import_hdf5(\"test.h5\", True, True, True)"
            ]
        },
        {
            "cell_type": "markdown",
            "metadata": {},
            "source": [
                "## Data analysis\n",
                "\n",
                "Random data analysis test notebook of steps later used in thorough analysis.\n"
            ]
        },
        {
            "cell_type": "markdown",
            "metadata": {},
            "source": [
                "#### Data analysis 1\n",
                "\n",
                "Firstly, extract output values for further analysis:"
            ]
        },
        {
            "cell_type": "code",
            "execution_count": 22,
            "metadata": {},
            "outputs": [
                {
                    "name": "stdout",
                    "output_type": "stream",
                    "text": [
                        "world\n",
                        "G\n",
                        "N_events\n",
                        "t_end\n",
                        "t_start\n",
                        "t_exec\n",
                        "seed\n",
                        "nodesConjMu\n",
                        "mu_nodes\n",
                        "sd_nodes\n",
                        "kl_divs\n"
                    ]
                }
            ],
            "source": [
                "for i in out1.keys():\n",
                "    print(i)"
            ]
        },
        {
            "cell_type": "markdown",
            "metadata": {},
            "source": [
                "\n",
                "Each node's posteriors are plotted. One should see nodes' posteriors of model parameters (in this case, $\\mu$), to converge around the true value. If not, nodes may need more information to converge ($\\rightarrow$ increase $t_{max}, h$).\n"
            ]
        },
        {
            "cell_type": "code",
            "execution_count": 23,
            "metadata": {},
            "outputs": [
                {
                    "data": {
                        "text/plain": [
                            "(array([ 2.,  4.,  9., 13., 16., 19., 13.,  6.,  4.,  3.,  2.,  2.,  1.,\n",
                            "         2.,  1.,  1.,  0.,  0.,  0.,  2.]),\n",
                            " array([0.00283976, 0.00496185, 0.00708394, 0.00920604, 0.01132813,\n",
                            "        0.01345023, 0.01557232, 0.01769442, 0.01981651, 0.02193861,\n",
                            "        0.0240607 , 0.0261828 , 0.02830489, 0.03042698, 0.03254908,\n",
                            "        0.03467117, 0.03679327, 0.03891536, 0.04103746, 0.04315955,\n",
                            "        0.04528165]),\n",
                            " <BarContainer object of 20 artists>)"
                        ]
                    },
                    "execution_count": 23,
                    "metadata": {},
                    "output_type": "execute_result"
                },
                {
                    "data": {
                        "image/png": "[encoded data removed]",
                        "text/plain": [
                            "<Figure size 300x150 with 1 Axes>"
                        ]
                    },
                    "metadata": {},
                    "output_type": "display_data"
                }
            ],
            "source": [
                "sigmas = []\n",
                "for i in out1[\"nodesConjMu\"]:\n",
                "    sigmas += [i.params_node[\"scale\"]]\n",
                "fig, ax = plt.subplots()\n",
                "ax.hist(sigmas, bins=20)"
            ]
        },
        {
            "cell_type": "code",
            "execution_count": 24,
            "metadata": {},
            "outputs": [
                {
                    "name": "stdout",
                    "output_type": "stream",
                    "text": [
                        "[[ 1.22373949e+01  7.80000000e+01  1.74365448e-01]\n",
                        " [ 8.41490934e+00  4.30000000e+01  1.83272185e-01]\n",
                        " [-4.02973106e+00  9.90000000e+01  1.40758970e+00]\n",
                        " [-3.37880639e+00  4.30000000e+01  1.57268558e+00]\n",
                        " [ 1.63401205e+01  8.00000000e+00  1.74007580e+00]\n",
                        " [-4.08572320e+00  4.30000000e+01  2.44045282e+00]\n",
                        " [ 4.15053100e-01 -1.00000000e+00  3.08826137e+00]\n",
                        " [-1.32983193e+00  6.00000000e+01  3.35654809e+00]\n",
                        " [-2.49552116e+00  4.30000000e+01  3.64684918e+00]\n",
                        " [ 3.14988496e+00  5.80000000e+01  3.91055841e+00]\n",
                        " [-1.50979107e+01  7.00000000e+00  3.97634853e+00]\n",
                        " [-3.13610050e-02 -1.00000000e+00  4.66801207e+00]\n",
                        " [-4.62450828e+00  6.00000000e+00  4.68801479e+00]\n",
                        " [ 2.74047632e+00  9.00000000e+00  4.92481882e+00]\n",
                        " [ 3.87159073e+00  6.70000000e+01  5.50506642e+00]\n",
                        " [ 1.70605107e-01 -1.00000000e+00  5.97078164e+00]\n",
                        " [-3.99749974e-01  6.70000000e+01  6.59485208e+00]\n",
                        " [-1.97808915e-01  5.00000000e+00  6.96876678e+00]\n",
                        " [ 5.21044956e-01 -1.00000000e+00  7.39683744e+00]\n",
                        " [-3.85972999e-01 -1.00000000e+00  8.13871543e+00]\n",
                        " [-1.48833948e+00  8.00000000e+01  8.70853892e+00]\n",
                        " [ 1.30319771e-01  5.80000000e+01  8.89394599e+00]\n",
                        " [-2.45131797e+00  7.00000000e+00  8.90059612e+00]\n",
                        " [ 1.93003752e+00  8.20000000e+01  9.46727830e+00]\n",
                        " [ 2.96155606e-01  9.10000000e+01  1.00176129e+01]\n",
                        " [-4.95864051e-01 -1.00000000e+00  1.01702370e+01]\n",
                        " [-6.54249620e-01  9.90000000e+01  1.07463765e+01]\n",
                        " [ 1.28556706e+00 -1.00000000e+00  1.08283730e+01]\n",
                        " [ 2.80676930e+00  7.00000000e+00  1.08637543e+01]\n",
                        " [ 7.72538445e-01  8.20000000e+01  1.11631208e+01]\n",
                        " [ 3.36238878e-01  8.00000000e+00  1.13109650e+01]\n",
                        " [ 1.05428498e+00 -1.00000000e+00  1.13187298e+01]\n",
                        " [ 1.95669583e-01  9.10000000e+01  1.14101442e+01]\n",
                        " [-2.93037508e-01  6.00000000e+01  1.27883074e+01]\n",
                        " [-4.87951644e+00  8.20000000e+01  1.31286670e+01]\n",
                        " [ 1.08517181e-01  8.00000000e+00  1.32453514e+01]\n",
                        " [-4.18556549e-01  8.80000000e+01  1.35702148e+01]\n",
                        " [ 6.18600425e-01  8.00000000e+01  1.35859325e+01]\n",
                        " [-1.35483932e+00 -1.00000000e+00  1.39875903e+01]\n",
                        " [-1.24902621e+00  5.00000000e+00  1.40824751e+01]\n",
                        " [ 3.19695751e-01  8.80000000e+01  1.46242837e+01]\n",
                        " [ 6.47577685e+00  7.90000000e+01  1.46260266e+01]\n",
                        " [ 4.98886622e-01  1.30000000e+01  1.47359116e+01]\n",
                        " [ 1.32001316e+00 -1.00000000e+00  1.51294458e+01]\n",
                        " [-3.95824280e-01  9.90000000e+01  1.51413755e+01]\n",
                        " [-1.14693264e-01  1.30000000e+01  1.52293448e+01]\n",
                        " [ 1.22166185e+00  6.00000000e+01  1.56010658e+01]\n",
                        " [-9.70198140e-01  7.80000000e+01  1.58760516e+01]\n",
                        " [-3.68778282e-01  7.00000000e+00  1.60204902e+01]\n",
                        " [-6.04670205e-01  3.80000000e+01  1.61049374e+01]\n",
                        " [-1.03703149e+00  6.00000000e+00  1.61282917e+01]\n",
                        " [-8.01781950e-01  7.80000000e+01  1.67091950e+01]\n",
                        " [ 6.16932472e-01 -1.00000000e+00  1.71049420e+01]\n",
                        " [-1.66575609e+00 -1.00000000e+00  1.71177206e+01]\n",
                        " [ 1.76370257e+00 -1.00000000e+00  1.72898875e+01]\n",
                        " [ 8.56759143e-01 -1.00000000e+00  1.81684968e+01]\n",
                        " [-6.60044444e-01  9.90000000e+01  1.95178361e+01]\n",
                        " [-8.97656682e-01  5.00000000e+00  1.97704296e+01]\n",
                        " [ 2.17318455e+00 -1.00000000e+00  1.99352626e+01]\n",
                        " [-4.38416847e-01  1.30000000e+01  1.99638201e+01]\n",
                        " [ 3.91129829e-01  5.00000000e+00  2.05190849e+01]\n",
                        " [ 7.78797471e-01  9.90000000e+01  2.05897047e+01]\n",
                        " [ 9.04859901e-01 -1.00000000e+00  2.08360208e+01]\n",
                        " [-1.33969627e-01  8.80000000e+01  2.11527381e+01]\n",
                        " [ 1.02729533e-01  9.00000000e+00  2.25132358e+01]\n",
                        " [-1.19994016e+00  8.20000000e+01  2.25635529e+01]\n",
                        " [-4.78011552e-01  8.80000000e+01  2.27924382e+01]\n",
                        " [-1.26224957e-01  6.00000000e+00  2.34899446e+01]\n",
                        " [-1.24779147e-01 -1.00000000e+00  2.38436606e+01]\n",
                        " [-5.42515093e-01  4.30000000e+01  2.40922629e+01]\n",
                        " [ 1.08400065e-01 -1.00000000e+00  2.46406022e+01]\n",
                        " [-2.44002526e+00 -1.00000000e+00  2.47385048e+01]\n",
                        " [-2.02535845e+00  6.70000000e+01  2.49280885e+01]\n",
                        " [ 1.14653013e-01  9.10000000e+01  2.52319534e+01]\n",
                        " [ 4.34948968e-01 -1.00000000e+00  2.53309645e+01]\n",
                        " [-1.03040316e+00  4.30000000e+01  2.55067318e+01]\n",
                        " [-1.46476564e+00  8.80000000e+01  2.66173480e+01]\n",
                        " [-1.42241015e+00 -1.00000000e+00  2.67243363e+01]\n",
                        " [-3.75985124e-01  9.90000000e+01  2.68805181e+01]\n",
                        " [-5.24865529e-01  8.20000000e+01  2.69553832e+01]\n",
                        " [-2.81872643e-01  6.70000000e+01  2.72610364e+01]\n",
                        " [-2.14441497e+00 -1.00000000e+00  2.78682530e+01]\n",
                        " [-8.93466847e-01  8.00000000e+00  2.80407481e+01]\n",
                        " [-5.03411972e+00  6.00000000e+01  2.83621684e+01]\n",
                        " [ 1.23341533e-01  9.90000000e+01  2.83647618e+01]\n",
                        " [-9.72089636e-01  8.00000000e+01  2.84476537e+01]\n",
                        " [-6.52085338e-01  6.00000000e+01  2.85839019e+01]\n",
                        " [-2.70802718e-01  1.30000000e+01  2.88386137e+01]\n",
                        " [-3.34624069e-01  7.80000000e+01  2.89718816e+01]\n",
                        " [ 6.23079729e-01 -1.00000000e+00  2.91599054e+01]\n",
                        " [ 4.78017883e-02  7.80000000e+01  3.00036095e+01]\n",
                        " [-1.58080628e-01  9.90000000e+01  3.02835088e+01]\n",
                        " [-1.39155586e-01  5.80000000e+01  3.03762588e+01]\n",
                        " [-2.17431022e+00  6.70000000e+01  3.07533867e+01]\n",
                        " [ 2.54139347e-02  9.00000000e+00  3.08562062e+01]\n",
                        " [-8.86142994e-01 -1.00000000e+00  3.10601564e+01]\n",
                        " [-1.39889320e+00  8.80000000e+01  3.12280095e+01]\n",
                        " [-6.88792904e-01  7.80000000e+01  3.21221123e+01]\n",
                        " [ 2.03813906e+00  8.80000000e+01  3.21927125e+01]\n",
                        " [-1.72938054e+00  7.00000000e+00  3.23526640e+01]\n",
                        " [-7.34822209e-01  6.00000000e+01  3.28655103e+01]\n",
                        " [ 9.89550825e-01 -1.00000000e+00  3.40063142e+01]\n",
                        " [-3.10602560e-01  8.80000000e+01  3.43963833e+01]\n",
                        " [ 2.43682295e+00 -1.00000000e+00  3.45693231e+01]\n",
                        " [-5.39670562e-01  7.80000000e+01  3.49678311e+01]\n",
                        " [ 1.61370014e-01  9.10000000e+01  3.58844889e+01]\n",
                        " [ 5.48664544e-01  7.90000000e+01  3.63735283e+01]\n",
                        " [ 4.62086375e-01 -1.00000000e+00  3.67346896e+01]\n",
                        " [ 4.95283789e-02  8.20000000e+01  3.67593561e+01]\n",
                        " [-8.49866854e-01  7.00000000e+00  3.71141151e+01]\n",
                        " [ 1.79459815e-01  7.80000000e+01  3.75036378e+01]\n",
                        " [ 7.99616774e-01 -1.00000000e+00  3.77902480e+01]\n",
                        " [ 1.56711843e-01  4.30000000e+01  3.80292468e+01]\n",
                        " [-4.74058002e-01 -1.00000000e+00  3.82049997e+01]\n",
                        " [ 7.00188827e-01 -1.00000000e+00  3.89110570e+01]\n",
                        " [-1.38636486e-01  7.90000000e+01  3.89800885e+01]\n",
                        " [ 7.18436748e-01  1.30000000e+01  3.90738543e+01]\n",
                        " [-1.89307680e-01  6.70000000e+01  3.93625006e+01]\n",
                        " [ 1.58666336e-01  9.10000000e+01  3.97380936e+01]\n",
                        " [-1.15756481e+00 -1.00000000e+00  3.97615305e+01]\n",
                        " [ 4.96260605e-01  6.00000000e+01  3.99472359e+01]\n",
                        " [-1.59642497e-01  6.00000000e+00  4.04010383e+01]\n",
                        " [-8.32512891e-01  4.30000000e+01  4.10711419e+01]\n",
                        " [-7.77298292e-01  4.30000000e+01  4.13171196e+01]\n",
                        " [-1.47576277e+00  5.80000000e+01  4.16912849e+01]\n",
                        " [-1.11508196e+00  6.00000000e+00  4.18061674e+01]\n",
                        " [-7.16225627e-01  7.00000000e+00  4.19915237e+01]\n",
                        " [-2.11413126e-01  7.80000000e+01  4.21169649e+01]\n",
                        " [ 7.84959388e-01  5.80000000e+01  4.27493763e+01]\n",
                        " [ 1.08279827e+00 -1.00000000e+00  4.31956104e+01]\n",
                        " [-4.90054343e-01  8.00000000e+01  4.36021814e+01]\n",
                        " [-2.78526175e-01  9.90000000e+01  4.36154439e+01]\n",
                        " [ 1.90181335e+00  5.00000000e+00  4.36717302e+01]\n",
                        " [ 4.60116284e-01  7.00000000e+00  4.38414751e+01]\n",
                        " [ 5.12519284e-01  9.10000000e+01  4.41889373e+01]\n",
                        " [-3.49727147e+00 -1.00000000e+00  4.44101312e+01]\n",
                        " [-8.73491054e-01 -1.00000000e+00  4.44409002e+01]\n",
                        " [-9.06707701e-01  8.80000000e+01  4.46011149e+01]\n",
                        " [-7.36421286e-01  8.20000000e+01  4.46090771e+01]\n",
                        " [ 3.03714356e-01  5.80000000e+01  4.46496306e+01]\n",
                        " [-6.14593247e-01  8.00000000e+01  4.48930925e+01]\n",
                        " [-1.26320810e+00  8.20000000e+01  4.49498561e+01]\n",
                        " [-1.01741304e-01  7.90000000e+01  4.55060017e+01]\n",
                        " [ 2.99384216e-01 -1.00000000e+00  4.63484585e+01]\n",
                        " [ 1.20532206e+00  6.70000000e+01  4.64312504e+01]\n",
                        " [-2.09361027e+00  8.20000000e+01  4.75617606e+01]\n",
                        " [-2.03421088e-01  9.00000000e+00  4.77450828e+01]\n",
                        " [-1.67547198e+00  8.20000000e+01  4.79344569e+01]\n",
                        " [-2.29398741e+00  8.00000000e+00  4.82930531e+01]\n",
                        " [-2.32947681e-01  8.20000000e+01  4.83345547e+01]\n",
                        " [-4.27757424e-01  6.70000000e+01  4.84266228e+01]\n",
                        " [ 2.48380442e-01  5.00000000e+00  4.88399222e+01]\n",
                        " [-5.41125895e-01  8.20000000e+01  4.90145461e+01]\n",
                        " [-5.84498480e-01 -1.00000000e+00  4.92049727e+01]\n",
                        " [-6.80126569e-01  8.00000000e+01  4.94068664e+01]]\n"
                    ]
                },
                {
                    "data": {
                        "image/png": "[encoded data removed]",
                        "text/plain": [
                            "<Figure size 300x150 with 1 Axes>"
                        ]
                    },
                    "metadata": {},
                    "output_type": "display_data"
                }
            ],
            "source": [
                "# Implement external sampling routine (or rather test if feasible)\n",
                "k = 0\n",
                "nody = out1[\"nodesConjMu\"][k]\n",
                "# mu_nody = np.array(out1[\"mu_nodes\"])[:, k][1:]\n",
                "#\n",
                "fig, ax = plt.subplots()\n",
                "# ax.plot(\n",
                "#    np.arange(input[\"t0\"], input[\"t_max\"], input[\"t_sample\"]),\n",
                "#    mu_nody,\n",
                "# )\n",
                "\n",
                "mu, sig = input[\"params_node\"].values()\n",
                "sd_llf = input[\"sd_llf\"]\n",
                "x_in = np.array(nody.diary_in)\n",
                "post_mu = x_in[:, 0]\n",
                "post_sig = np.zeros_like(post_mu)\n",
                "\n",
                "i = -1\n",
                "post_mu[i], post_sig[i] = mu, sig\n",
                "for i, _ in enumerate(x_in):\n",
                "    post_mu[i] = (post_sig[i - 1] ** 2 * x_in[i, 0] + sd_llf**2 * post_mu[i - 1]) / (\n",
                "        post_sig[i - 1] ** 2 + sd_llf**2\n",
                "    )\n",
                "    post_sig[i] = (1 / post_sig[i - 1] ** 2 + 1 / sd_llf**2) ** (-0.5)\n",
                "\n",
                "# ax.set_ylim(-1, 1)\n",
                "ax.plot(x_in[:, 2], post_mu, \"+\", alpha=1)\n",
                "ax.set_xlabel(\"$t$\")\n",
                "ax.set_ylabel(\"$MLE_i$\")\n",
                "\n",
                "print(nody.diary_in)\n",
                "# fig.savefig(\"graphics-output/TMP-mu_N1.png\", dpi=1500)"
            ]
        },
        {
            "cell_type": "code",
            "execution_count": 25,
            "metadata": {},
            "outputs": [
                {
                    "name": "stdout",
                    "output_type": "stream",
                    "text": [
                        "(51, 100)\n",
                        "51\n"
                    ]
                },
                {
                    "data": {
                        "text/plain": [
                            "(-3.0, 3.0)"
                        ]
                    },
                    "execution_count": 25,
                    "metadata": {},
                    "output_type": "execute_result"
                },
                {
                    "data": {
                        "image/png": "[encoded data removed]",
                        "text/plain": [
                            "<Figure size 300x150 with 1 Axes>"
                        ]
                    },
                    "metadata": {},
                    "output_type": "display_data"
                }
            ],
            "source": [
                "mu_arr = np.array(out1[\"mu_nodes\"])\n",
                "print(mu_arr.shape)\n",
                "x = np.arange(input[\"t0\"], input[\"t_max\"] + input[\"t_sample\"], input[\"t_sample\"])\n",
                "print(len(x))\n",
                "fig, ax = plt.subplots()\n",
                "for i, mu in enumerate(mu_arr.T):\n",
                "    ax.plot(x, mu, alpha=0.3, label=f\"$\\mu_{i}$\", color=\"tab:blue\")\n",
                "    ax.set_xlabel(\"$t$\")\n",
                "    ax.set_ylabel(\"$MLE_i$\")\n",
                "ax.set_ylim(-3, 3)\n",
                "# ax.set_yscale(\"log\")\n",
                "# ax.loglog()\n",
                "# ax.legend()\n",
                "# fig.savefig(\"./graphics-output/TMP-mu_nodes.png\", dpi=1500)"
            ]
        },
        {
            "cell_type": "code",
            "execution_count": null,
            "metadata": {},
            "outputs": [],
            "source": []
        }
    ],
    "metadata": {
        "kernelspec": {
            "display_name": "neuro_op",
            "language": "python",
            "name": "python3"
        },
        "language_info": {
            "codemirror_mode": {
                "name": "ipython",
                "version": 3
            },
            "file_extension": ".py",
            "mimetype": "text/x-python",
            "name": "python",
            "nbconvert_exporter": "python",
            "pygments_lexer": "ipython3",
            "version": "3.11.10"
        },
        "orig_nbformat": 4
    },
    "nbformat": 4,
    "nbformat_minor": 2
}
