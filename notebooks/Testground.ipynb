{
    "cells": [
        {
            "cell_type": "code",
            "execution_count": 1,
            "metadata": {},
            "outputs": [],
            "source": [
                "import copy\n",
                "\n",
                "# import cProfile\n",
                "import itertools\n",
                "\n",
                "import matplotlib.pyplot as plt\n",
                "import networkx as nx\n",
                "import numpy as np\n",
                "import scipy.stats as st\n",
                "\n",
                "import neuro_op as nop"
            ]
        },
        {
            "cell_type": "code",
            "execution_count": 2,
            "metadata": {},
            "outputs": [],
            "source": [
                "nop.plot_setup()\n",
                "cmap = \"inferno\""
            ]
        },
        {
            "cell_type": "code",
            "execution_count": 3,
            "metadata": {},
            "outputs": [],
            "source": [
                "# Reference input, to be adapted, just here for reference\n",
                "input = dict(\n",
                "    G=nop.build_random_network(N_nodes=100, N_neighbours=5),\n",
                "    llf_nodes=st.norm,\n",
                "    params_node=dict(\n",
                "        loc=0,\n",
                "        scale=10,\n",
                "    ),\n",
                "    sd_llf=1,\n",
                "    llf_world=st.norm,\n",
                "    params_world=dict(\n",
                "        loc=0,\n",
                "        scale=1,\n",
                "    ),\n",
                "    h=1,\n",
                "    r=1,\n",
                "    t0=0,\n",
                "    t_max=100,\n",
                "    t_sample=1,\n",
                "    sampling=True,\n",
                "    init_rngs=False,\n",
                "    seed=False,\n",
                ")"
            ]
        },
        {
            "cell_type": "code",
            "execution_count": 14,
            "metadata": {},
            "outputs": [
                {
                    "name": "stderr",
                    "output_type": "stream",
                    "text": [
                        "/home/jens/conda/envs/neuro_op/lib/python3.11/site-packages/IPython/core/events.py:82: UserWarning: There are no gridspecs with layoutgrids. Possibly did not call parent GridSpec with the \"figure\" keyword\n",
                        "  func(*args, **kwargs)\n",
                        "/home/jens/conda/envs/neuro_op/lib/python3.11/site-packages/IPython/core/pylabtools.py:170: UserWarning: There are no gridspecs with layoutgrids. Possibly did not call parent GridSpec with the \"figure\" keyword\n",
                        "  fig.canvas.print_figure(bytes_io, **kw)\n"
                    ]
                },
                {
                    "data": {
                        "image/png": "[encoded data removed]",
                        "text/plain": [
                            "<Figure size 300x150 with 1 Axes>"
                        ]
                    },
                    "metadata": {},
                    "output_type": "display_data"
                }
            ],
            "source": [
                "nx.draw(nx.empty_graph(1))"
            ]
        },
        {
            "cell_type": "code",
            "execution_count": 4,
            "metadata": {},
            "outputs": [],
            "source": [
                "# i.g. sourced form\n",
                "# 1. Dunbar 1993 (BEHAVIORAL AND BRAIN SCIENCES (1993) 16:4)\n",
                "# 2. Dunbar 2008, https://doi.org/10.1037/1089-2699.12.1.7\n",
                "# 3. Yellow (June 25, 2018)\n",
                "# (4. Lazily extrapolate N, nn from (x_{n+1})_n = n*ln(n) with n_0 = )\n",
                "\n",
                "nn = [10, (5, 15)]  # from 2\n",
                "N = [\n",
                "    1,  # for simple understanding\n",
                "    2,  # for simple understanding\n",
                "    150,  # from 1\n",
                "    500,  # from 3\n",
                "]\n",
                "\n",
                "# MA1 )\n",
                "sd_llf_arr = np.arange(0.25, 2.1, 0.25)\n",
                "nn_arr = np.arange(2.5, 21, 2.5)\n",
                "\n",
                "# MA2 )\n",
                "sd_arr = np.arange(0.25, 2.1, 0.25)\n",
                "\n",
                "# MA3 )\n",
                "mu_arr = np.arange(0, 10.1, 2)\n",
                "sd_arr = np.arange(1, 10.1, 1.5)\n",
                "r_arr = np.arange(1, 10.1, 1.5)"
            ]
        },
        {
            "cell_type": "code",
            "execution_count": 5,
            "metadata": {},
            "outputs": [
                {
                    "data": {
                        "text/plain": [
                            "108513659956008941187994674592555026139"
                        ]
                    },
                    "execution_count": 5,
                    "metadata": {},
                    "output_type": "execute_result"
                }
            ],
            "source": [
                "# out1 = nop.run_ConjMu(**nop.input_ref_ConjMu)\n",
                "out1 = nop.run_ConjMu(**input)\n",
                "out1[\"seed\"]"
            ]
        },
        {
            "cell_type": "code",
            "execution_count": 6,
            "metadata": {},
            "outputs": [],
            "source": [
                "nop.export_hdf5(out1, \"test.h5\")"
            ]
        },
        {
            "cell_type": "code",
            "execution_count": 7,
            "metadata": {},
            "outputs": [],
            "source": [
                "out1 = nop.import_hdf5(\"test.h5\", True, True, True)"
            ]
        },
        {
            "cell_type": "markdown",
            "metadata": {},
            "source": [
                "## Data analysis\n",
                "\n",
                "Random data analysis test notebook of steps later used in thorough analysis.\n"
            ]
        },
        {
            "cell_type": "markdown",
            "metadata": {},
            "source": [
                "#### Data analysis 1\n",
                "\n",
                "Firstly, extract output values for further analysis:"
            ]
        },
        {
            "cell_type": "code",
            "execution_count": 8,
            "metadata": {},
            "outputs": [
                {
                    "name": "stdout",
                    "output_type": "stream",
                    "text": [
                        "world\n",
                        "G\n",
                        "N_events\n",
                        "t_end\n",
                        "t_start\n",
                        "t_exec\n",
                        "seed\n",
                        "nodesConjMu\n",
                        "mu_nodes\n",
                        "sd_nodes\n",
                        "kl_divs\n"
                    ]
                }
            ],
            "source": [
                "for i in out1.keys():\n",
                "    print(i)"
            ]
        },
        {
            "cell_type": "markdown",
            "metadata": {},
            "source": [
                "\n",
                "Each node's posteriors are plotted. One should see nodes' posteriors of model parameters (in this case, $\\mu$), to converge around the true value. If not, nodes may need more information to converge ($\\rightarrow$ increase $t_{max}, h$).\n"
            ]
        },
        {
            "cell_type": "code",
            "execution_count": 9,
            "metadata": {},
            "outputs": [
                {
                    "data": {
                        "text/plain": [
                            "(array([ 1.,  2.,  6.,  6.,  7., 10., 15.,  9.,  7.,  9.,  4.,  3.,  5.,\n",
                            "         0.,  4.,  2.,  1.,  1.,  3.,  5.]),\n",
                            " array([0.04252394, 0.04452153, 0.04651913, 0.04851672, 0.05051431,\n",
                            "        0.05251191, 0.0545095 , 0.05650709, 0.05850469, 0.06050228,\n",
                            "        0.06249987, 0.06449747, 0.06649506, 0.06849265, 0.07049025,\n",
                            "        0.07248784, 0.07448543, 0.07648303, 0.07848062, 0.08047821,\n",
                            "        0.0824758 ]),\n",
                            " <BarContainer object of 20 artists>)"
                        ]
                    },
                    "execution_count": 9,
                    "metadata": {},
                    "output_type": "execute_result"
                },
                {
                    "data": {
                        "image/png": "[encoded data removed]",
                        "text/plain": [
                            "<Figure size 300x150 with 1 Axes>"
                        ]
                    },
                    "metadata": {},
                    "output_type": "display_data"
                }
            ],
            "source": [
                "sigmas = []\n",
                "for i in out1[\"nodesConjMu\"]:\n",
                "    sigmas += [i.params_node[\"scale\"]]\n",
                "fig, ax = plt.subplots()\n",
                "ax.hist(sigmas, bins=20)"
            ]
        },
        {
            "cell_type": "code",
            "execution_count": 10,
            "metadata": {},
            "outputs": [
                {
                    "name": "stdout",
                    "output_type": "stream",
                    "text": [
                        "[[ 3.91758786e-01 -1.00000000e+00  4.25295801e-02]\n",
                        " [ 2.63323359e-01 -1.00000000e+00  4.47656577e-02]\n",
                        " [ 2.81627128e+00  3.40000000e+01  7.63305162e-01]\n",
                        " [-3.27416104e+00 -1.00000000e+00  9.91991294e-01]\n",
                        " [ 2.36362714e+00  8.10000000e+01  1.21149563e+00]\n",
                        " [-3.47027839e-01 -1.00000000e+00  1.26882395e+00]\n",
                        " [ 2.32704808e+00 -1.00000000e+00  1.28929833e+00]\n",
                        " [-4.99271615e-01  4.00000000e+00  1.50609343e+00]\n",
                        " [ 1.89647692e+00  1.90000000e+01  2.40648383e+00]\n",
                        " [ 3.73992205e+00  1.90000000e+01  2.50128847e+00]\n",
                        " [-1.30776189e+00  8.30000000e+01  3.24555159e+00]\n",
                        " [ 3.10448500e-01  8.10000000e+01  3.78618669e+00]\n",
                        " [-2.20235142e-01  3.40000000e+01  4.14924996e+00]\n",
                        " [-1.39035058e+00  3.40000000e+01  4.18990296e+00]\n",
                        " [-1.13784779e-01  3.40000000e+01  5.02500238e+00]\n",
                        " [ 5.22188927e-03  4.00000000e+00  5.52174997e+00]\n",
                        " [-8.42449843e-01  4.00000000e+00  6.14755166e+00]\n",
                        " [-9.76819591e-01 -1.00000000e+00  6.38777530e+00]\n",
                        " [ 1.36038944e+00  8.30000000e+01  6.48008304e+00]\n",
                        " [ 1.93189363e-01 -1.00000000e+00  6.49975184e+00]\n",
                        " [-1.08968621e+00  4.00000000e+00  6.88513308e+00]\n",
                        " [-3.08875655e-01 -1.00000000e+00  7.25834658e+00]\n",
                        " [ 4.05557004e-01  4.00000000e+00  7.32133732e+00]\n",
                        " [ 2.17103838e-01 -1.00000000e+00  7.40743621e+00]\n",
                        " [-8.23557588e-01  3.40000000e+01  7.95127195e+00]\n",
                        " [-1.75173702e+00 -1.00000000e+00  8.46018594e+00]\n",
                        " [ 1.72750012e+00  3.40000000e+01  8.46063135e+00]\n",
                        " [-4.08891218e-01 -1.00000000e+00  9.06319455e+00]\n",
                        " [ 3.94298148e+00 -1.00000000e+00  9.54466539e+00]\n",
                        " [-1.13882313e+00  8.30000000e+01  9.78621205e+00]\n",
                        " [-9.83385287e-01 -1.00000000e+00  1.01172984e+01]\n",
                        " [-1.97825519e+00  3.40000000e+01  1.04634662e+01]\n",
                        " [ 3.73135065e-01  8.30000000e+01  1.09149706e+01]\n",
                        " [ 1.02483112e+00  3.40000000e+01  1.15542210e+01]\n",
                        " [ 9.41115745e-01  8.30000000e+01  1.18635228e+01]\n",
                        " [-1.42291762e+00  1.90000000e+01  1.18695373e+01]\n",
                        " [-1.89856068e+00  8.10000000e+01  1.22675275e+01]\n",
                        " [-1.43759585e+00  8.10000000e+01  1.31327705e+01]\n",
                        " [-5.66500594e-01  8.30000000e+01  1.31672693e+01]\n",
                        " [ 5.46249289e-02  8.30000000e+01  1.32070244e+01]\n",
                        " [ 1.47282033e+00  3.40000000e+01  1.34287368e+01]\n",
                        " [-9.84523654e-01 -1.00000000e+00  1.35070343e+01]\n",
                        " [-6.53998255e-01  8.30000000e+01  1.36548094e+01]\n",
                        " [ 1.17788783e+00  8.10000000e+01  1.37098825e+01]\n",
                        " [ 5.77749125e-01  3.40000000e+01  1.44894244e+01]\n",
                        " [-9.32286364e-01 -1.00000000e+00  1.44955401e+01]\n",
                        " [-1.32955273e+00  4.00000000e+00  1.49653296e+01]\n",
                        " [-1.73472025e+00  1.90000000e+01  1.52418319e+01]\n",
                        " [ 4.30384104e-01  8.30000000e+01  1.54407232e+01]\n",
                        " [-1.49255246e+00 -1.00000000e+00  1.54484942e+01]\n",
                        " [-2.35455197e+00 -1.00000000e+00  1.56026623e+01]\n",
                        " [-2.50771835e+00  8.10000000e+01  1.57874752e+01]\n",
                        " [ 1.20978240e+00  8.10000000e+01  1.63519243e+01]\n",
                        " [ 6.30172161e-01  3.40000000e+01  1.64344142e+01]\n",
                        " [-1.47014721e+00 -1.00000000e+00  1.64660062e+01]\n",
                        " [ 6.11963706e-01 -1.00000000e+00  1.64957711e+01]\n",
                        " [-5.48953594e-01  3.40000000e+01  1.66104829e+01]\n",
                        " [-7.35084107e-01  8.10000000e+01  1.72784318e+01]\n",
                        " [-9.11766385e-01  3.40000000e+01  1.74071798e+01]\n",
                        " [-3.18622146e-01 -1.00000000e+00  1.75107788e+01]\n",
                        " [ 1.05475879e+00  8.10000000e+01  1.75408214e+01]\n",
                        " [ 8.35311840e-01  8.30000000e+01  1.86284470e+01]\n",
                        " [ 6.04793038e-01  8.30000000e+01  1.88265769e+01]\n",
                        " [ 9.43276864e-01 -1.00000000e+00  1.90421279e+01]\n",
                        " [ 1.63881090e+00  8.30000000e+01  2.01210075e+01]\n",
                        " [-1.54650300e+00  1.90000000e+01  2.02402005e+01]\n",
                        " [-1.74956535e+00  1.90000000e+01  2.02575121e+01]\n",
                        " [ 4.21629185e-01  3.40000000e+01  2.04481981e+01]\n",
                        " [-9.32428799e-01  3.40000000e+01  2.04745610e+01]\n",
                        " [ 2.98433871e-01  1.90000000e+01  2.07643558e+01]\n",
                        " [-1.99073034e-01  3.40000000e+01  2.07800014e+01]\n",
                        " [ 2.91916677e-01  8.10000000e+01  2.20826056e+01]\n",
                        " [ 1.19329561e+00 -1.00000000e+00  2.20883765e+01]\n",
                        " [ 2.42498611e+00 -1.00000000e+00  2.22240219e+01]\n",
                        " [ 7.22239735e-01  4.00000000e+00  2.22447718e+01]\n",
                        " [ 7.31911882e-01  4.00000000e+00  2.22571337e+01]\n",
                        " [ 1.16856912e+00  3.40000000e+01  2.30505851e+01]\n",
                        " [ 5.55400434e-01  1.90000000e+01  2.33304705e+01]\n",
                        " [-1.20520040e+00 -1.00000000e+00  2.39023586e+01]\n",
                        " [-9.55136209e-02  4.00000000e+00  2.46814280e+01]\n",
                        " [ 1.49823251e+00 -1.00000000e+00  2.48162402e+01]\n",
                        " [-3.52419779e-01  8.10000000e+01  2.49733283e+01]\n",
                        " [ 2.73342821e+00 -1.00000000e+00  2.51900608e+01]\n",
                        " [ 8.43014899e-01  8.10000000e+01  2.52073994e+01]\n",
                        " [ 7.83048456e-02 -1.00000000e+00  2.53700782e+01]\n",
                        " [-1.36773647e+00 -1.00000000e+00  2.58829272e+01]\n",
                        " [-9.49726264e-01  3.40000000e+01  2.63916869e+01]\n",
                        " [ 2.00959625e+00 -1.00000000e+00  2.65409257e+01]\n",
                        " [-2.95679434e-01  3.40000000e+01  2.68524745e+01]\n",
                        " [-4.64685321e-01  1.90000000e+01  2.79230316e+01]\n",
                        " [ 3.62603728e-03  4.00000000e+00  2.80491363e+01]\n",
                        " [-2.46467821e-01  3.40000000e+01  2.81328494e+01]\n",
                        " [-1.37382122e+00  4.00000000e+00  2.89368566e+01]\n",
                        " [ 1.26316882e+00  8.30000000e+01  2.96146138e+01]\n",
                        " [-1.39789514e-01  1.90000000e+01  3.03592423e+01]\n",
                        " [ 2.08562331e+00  8.10000000e+01  3.09047499e+01]\n",
                        " [-4.66186926e-01  4.00000000e+00  3.09282110e+01]\n",
                        " [ 4.86599565e-01  1.90000000e+01  3.09482570e+01]\n",
                        " [-8.11943490e-01  3.40000000e+01  3.15525086e+01]\n",
                        " [ 3.93823652e-01 -1.00000000e+00  3.19450354e+01]\n",
                        " [-2.05063914e-01  8.10000000e+01  3.20636759e+01]\n",
                        " [ 1.22104509e+00  8.30000000e+01  3.22998510e+01]\n",
                        " [-1.31436178e+00  8.10000000e+01  3.25862721e+01]\n",
                        " [-1.28044468e-01  1.90000000e+01  3.29665883e+01]\n",
                        " [ 3.17500121e-01  1.90000000e+01  3.34572064e+01]\n",
                        " [-2.14173801e+00 -1.00000000e+00  3.35548396e+01]\n",
                        " [-2.47082258e-02  1.90000000e+01  3.36223332e+01]\n",
                        " [-1.42003015e+00  3.40000000e+01  3.36549838e+01]\n",
                        " [-1.01953939e+00  3.40000000e+01  3.47132323e+01]\n",
                        " [ 1.52438241e-01 -1.00000000e+00  3.47832163e+01]\n",
                        " [ 6.53408772e-02  8.30000000e+01  3.50510273e+01]\n",
                        " [ 1.77553355e+00  8.30000000e+01  3.52510725e+01]\n",
                        " [ 1.04282843e+00 -1.00000000e+00  3.53570418e+01]\n",
                        " [-7.40154971e-01 -1.00000000e+00  3.56454307e+01]\n",
                        " [-1.16633370e+00  1.90000000e+01  3.62382438e+01]\n",
                        " [-6.00854763e-01  3.40000000e+01  3.63030044e+01]\n",
                        " [-2.25411810e+00 -1.00000000e+00  3.68542167e+01]\n",
                        " [ 2.47783535e+00 -1.00000000e+00  3.71293008e+01]\n",
                        " [ 1.24868060e+00 -1.00000000e+00  3.75696135e+01]\n",
                        " [-9.26975355e-01  8.30000000e+01  3.81356172e+01]\n",
                        " [ 1.32819657e+00  8.30000000e+01  3.82827159e+01]\n",
                        " [ 6.65837623e-01  8.10000000e+01  3.87318448e+01]\n",
                        " [-9.87394266e-01  4.00000000e+00  3.90341632e+01]\n",
                        " [-9.73525426e-01 -1.00000000e+00  3.91942736e+01]\n",
                        " [-6.41354839e-01  3.40000000e+01  3.94009191e+01]\n",
                        " [-4.24672891e-01  8.10000000e+01  3.97283350e+01]\n",
                        " [ 1.27027363e-01  8.30000000e+01  3.97550585e+01]\n",
                        " [ 1.66195135e+00  8.30000000e+01  4.00948350e+01]\n",
                        " [-6.73464112e-01  3.40000000e+01  4.14297244e+01]\n",
                        " [-1.64432510e+00  8.10000000e+01  4.18247846e+01]\n",
                        " [-1.29858687e+00  4.00000000e+00  4.18661939e+01]\n",
                        " [ 1.45554137e+00  4.00000000e+00  4.19831424e+01]\n",
                        " [ 5.38817810e-02  8.10000000e+01  4.20857838e+01]\n",
                        " [-2.36620262e+00 -1.00000000e+00  4.23164150e+01]\n",
                        " [-4.36429189e-01 -1.00000000e+00  4.23434397e+01]\n",
                        " [-1.40625229e+00 -1.00000000e+00  4.25011106e+01]\n",
                        " [-4.79445651e-01  8.30000000e+01  4.25994917e+01]\n",
                        " [-1.24978943e+00 -1.00000000e+00  4.26087599e+01]\n",
                        " [-1.43139577e+00  8.10000000e+01  4.38967386e+01]\n",
                        " [ 4.58336012e-01  8.30000000e+01  4.39448613e+01]\n",
                        " [-1.44028432e+00 -1.00000000e+00  4.44181675e+01]\n",
                        " [ 4.81948191e-02  8.30000000e+01  4.44484906e+01]\n",
                        " [-8.47046924e-01  8.10000000e+01  4.46433185e+01]\n",
                        " [ 9.36758235e-01  4.00000000e+00  4.55545750e+01]\n",
                        " [-1.73025546e-01  8.10000000e+01  4.59429148e+01]\n",
                        " [-5.37493953e-01  8.10000000e+01  4.62991996e+01]\n",
                        " [ 6.17597793e-01  3.40000000e+01  4.65460160e+01]\n",
                        " [-3.54454831e-01  8.10000000e+01  4.65929580e+01]\n",
                        " [-1.52403973e+00  1.90000000e+01  4.66428996e+01]\n",
                        " [ 7.34610555e-01  8.30000000e+01  4.68947644e+01]\n",
                        " [-1.35283525e+00  8.30000000e+01  4.79479844e+01]\n",
                        " [ 3.57270759e-01  3.40000000e+01  4.80954202e+01]\n",
                        " [ 4.90040609e-01 -1.00000000e+00  4.84788608e+01]\n",
                        " [-3.58638838e-01  1.90000000e+01  4.85771697e+01]\n",
                        " [ 1.14044413e+00  3.40000000e+01  4.86649660e+01]\n",
                        " [ 1.59944907e-01 -1.00000000e+00  4.89411632e+01]\n",
                        " [ 1.23982638e+00 -1.00000000e+00  4.89874031e+01]\n",
                        " [ 8.51174713e-01  8.10000000e+01  4.93052803e+01]\n",
                        " [ 1.38582654e-01  3.40000000e+01  4.93431459e+01]\n",
                        " [-9.13704762e-01 -1.00000000e+00  4.93478500e+01]\n",
                        " [-1.63917556e+00 -1.00000000e+00  4.94779777e+01]\n",
                        " [ 1.00992423e+00 -1.00000000e+00  5.01082079e+01]\n",
                        " [-2.90983214e-01  8.30000000e+01  5.01915320e+01]\n",
                        " [-1.03924301e+00 -1.00000000e+00  5.02998519e+01]\n",
                        " [-1.70197372e-01  1.90000000e+01  5.08494540e+01]\n",
                        " [ 4.04431323e-01  8.10000000e+01  5.11200801e+01]\n",
                        " [-2.18745122e+00  4.00000000e+00  5.18831460e+01]\n",
                        " [ 7.09459931e-01  8.30000000e+01  5.19768433e+01]\n",
                        " [-1.24737064e+00  8.30000000e+01  5.20343121e+01]\n",
                        " [ 1.28359410e-01  8.30000000e+01  5.35897551e+01]\n",
                        " [ 1.32789852e+00  8.10000000e+01  5.41783140e+01]\n",
                        " [-7.87080054e-01  8.10000000e+01  5.52251996e+01]\n",
                        " [ 4.82146321e-02 -1.00000000e+00  5.57823132e+01]\n",
                        " [-5.13598150e-01 -1.00000000e+00  5.58229989e+01]\n",
                        " [-8.06069955e-01  8.30000000e+01  5.63401826e+01]\n",
                        " [-5.49580137e-03  4.00000000e+00  5.65374586e+01]\n",
                        " [-5.74175534e-01 -1.00000000e+00  5.68541846e+01]\n",
                        " [ 5.56172736e-01  4.00000000e+00  5.68900740e+01]\n",
                        " [-3.62333973e-01 -1.00000000e+00  5.70017922e+01]\n",
                        " [ 9.18646894e-01  4.00000000e+00  5.71657284e+01]\n",
                        " [ 9.26548211e-01  8.10000000e+01  5.80953229e+01]\n",
                        " [ 6.93312241e-01  4.00000000e+00  5.82183187e+01]\n",
                        " [ 2.01179254e+00  4.00000000e+00  5.87006036e+01]\n",
                        " [-3.48825358e-01 -1.00000000e+00  5.89502435e+01]\n",
                        " [ 2.13793511e+00  8.30000000e+01  5.98160515e+01]\n",
                        " [-3.94150255e-01  8.10000000e+01  5.99092367e+01]\n",
                        " [-2.43887086e+00 -1.00000000e+00  6.00719461e+01]\n",
                        " [ 2.00858703e+00 -1.00000000e+00  6.02677512e+01]\n",
                        " [ 5.23377059e-01  3.40000000e+01  6.06377345e+01]\n",
                        " [-1.72180454e+00  8.30000000e+01  6.14930658e+01]\n",
                        " [ 1.58318867e+00 -1.00000000e+00  6.16260890e+01]\n",
                        " [-1.09759444e+00  3.40000000e+01  6.26061716e+01]\n",
                        " [-8.54929199e-01  8.30000000e+01  6.26368504e+01]\n",
                        " [ 1.31425166e+00  1.90000000e+01  6.26753168e+01]\n",
                        " [-1.51379011e+00  1.90000000e+01  6.28179176e+01]\n",
                        " [-1.35589533e+00 -1.00000000e+00  6.28277302e+01]\n",
                        " [-4.71741217e-01 -1.00000000e+00  6.29304498e+01]\n",
                        " [-7.50963057e-01 -1.00000000e+00  6.31143409e+01]\n",
                        " [-2.30784331e-01  8.10000000e+01  6.32295894e+01]\n",
                        " [-2.40996625e+00  1.90000000e+01  6.33762263e+01]\n",
                        " [-9.82914693e-01  3.40000000e+01  6.36440052e+01]\n",
                        " [ 5.85756313e-01  8.30000000e+01  6.38089141e+01]\n",
                        " [-6.17863404e-01  8.10000000e+01  6.39809459e+01]\n",
                        " [-5.55404296e-01  8.30000000e+01  6.50648552e+01]\n",
                        " [ 7.18832522e-01 -1.00000000e+00  6.51521946e+01]\n",
                        " [-2.13658810e-01 -1.00000000e+00  6.53848184e+01]\n",
                        " [ 1.48923760e+00  8.30000000e+01  6.56758752e+01]\n",
                        " [ 6.78646919e-01  4.00000000e+00  6.58424658e+01]\n",
                        " [ 4.07602649e-01  4.00000000e+00  6.60389156e+01]\n",
                        " [ 2.77820532e-01  3.40000000e+01  6.63816661e+01]\n",
                        " [ 6.22233890e-01 -1.00000000e+00  6.64915427e+01]\n",
                        " [ 2.14839738e-01  4.00000000e+00  6.67033936e+01]\n",
                        " [ 5.25361210e-01  1.90000000e+01  6.70659262e+01]\n",
                        " [-2.88099291e-01  8.10000000e+01  6.73799407e+01]\n",
                        " [ 1.29957321e-01 -1.00000000e+00  6.73946751e+01]\n",
                        " [-9.88895895e-01  8.10000000e+01  6.80981266e+01]\n",
                        " [-5.09093763e-01  1.90000000e+01  6.87986351e+01]\n",
                        " [-2.90805551e+00  3.40000000e+01  6.88902876e+01]\n",
                        " [-1.35244436e+00  1.90000000e+01  6.88928579e+01]\n",
                        " [ 8.60030882e-01 -1.00000000e+00  6.88976588e+01]\n",
                        " [ 9.24757340e-02 -1.00000000e+00  6.96112029e+01]\n",
                        " [-6.96372989e-01 -1.00000000e+00  6.98297456e+01]\n",
                        " [ 5.31203897e-01  1.90000000e+01  6.99979759e+01]\n",
                        " [-3.60628839e-01  1.90000000e+01  7.01020085e+01]\n",
                        " [-1.03101177e-01 -1.00000000e+00  7.03559941e+01]\n",
                        " [-6.73928358e-02  4.00000000e+00  7.12523131e+01]\n",
                        " [ 1.72139597e-01 -1.00000000e+00  7.13155656e+01]\n",
                        " [-1.20560797e-01  8.10000000e+01  7.14276101e+01]\n",
                        " [-9.80841028e-01  8.10000000e+01  7.14352835e+01]\n",
                        " [ 2.74743640e+00 -1.00000000e+00  7.20820379e+01]\n",
                        " [-1.82507413e-01 -1.00000000e+00  7.22347918e+01]\n",
                        " [-1.77619392e+00 -1.00000000e+00  7.23023853e+01]\n",
                        " [-9.49066570e-01  1.90000000e+01  7.27980164e+01]\n",
                        " [-2.36274051e-01  8.30000000e+01  7.30216180e+01]\n",
                        " [-8.40378891e-01  8.10000000e+01  7.31732425e+01]\n",
                        " [ 1.99850220e+00 -1.00000000e+00  7.34825761e+01]\n",
                        " [-4.97880139e-01  1.90000000e+01  7.41346894e+01]\n",
                        " [-5.29125428e-02  3.40000000e+01  7.42543029e+01]\n",
                        " [ 1.08826566e+00  4.00000000e+00  7.43098498e+01]\n",
                        " [-1.08160977e-01 -1.00000000e+00  7.47699871e+01]\n",
                        " [ 7.64493037e-01  4.00000000e+00  7.49407256e+01]\n",
                        " [-1.06838318e+00 -1.00000000e+00  7.53067682e+01]\n",
                        " [ 5.07822708e-01  8.30000000e+01  7.53939885e+01]\n",
                        " [-1.75422817e+00 -1.00000000e+00  7.57658424e+01]\n",
                        " [ 7.77160052e-01  4.00000000e+00  7.62930756e+01]\n",
                        " [ 7.30087669e-01 -1.00000000e+00  7.63765044e+01]\n",
                        " [-5.81458895e-01  4.00000000e+00  7.65402343e+01]\n",
                        " [ 1.11776822e+00 -1.00000000e+00  7.84586067e+01]\n",
                        " [-3.29448420e-02  8.30000000e+01  7.84705506e+01]\n",
                        " [ 1.59832640e+00 -1.00000000e+00  7.92781711e+01]\n",
                        " [ 8.48932430e-01  8.30000000e+01  7.92795655e+01]\n",
                        " [-1.08563031e+00  8.10000000e+01  7.92896433e+01]\n",
                        " [ 8.46821572e-01 -1.00000000e+00  7.97335839e+01]\n",
                        " [-6.48868268e-01  1.90000000e+01  7.98982376e+01]\n",
                        " [-1.15540743e+00  4.00000000e+00  8.01990917e+01]\n",
                        " [-7.77589297e-02 -1.00000000e+00  8.05995913e+01]\n",
                        " [-3.19999986e-01  3.40000000e+01  8.15808971e+01]\n",
                        " [ 8.00872511e-01  4.00000000e+00  8.18796400e+01]\n",
                        " [-1.93565370e+00  8.10000000e+01  8.21482833e+01]\n",
                        " [ 4.81195232e-01  4.00000000e+00  8.23353677e+01]\n",
                        " [ 1.54574020e-01 -1.00000000e+00  8.27003687e+01]\n",
                        " [ 2.48021981e-01  8.10000000e+01  8.28052584e+01]\n",
                        " [-6.16988474e-01 -1.00000000e+00  8.32973350e+01]\n",
                        " [ 4.77066141e-02 -1.00000000e+00  8.42603501e+01]\n",
                        " [ 6.82179989e-02  4.00000000e+00  8.57779215e+01]\n",
                        " [ 1.11341530e+00  3.40000000e+01  8.59055129e+01]\n",
                        " [ 6.51799680e-01  4.00000000e+00  8.59541321e+01]\n",
                        " [-6.35790541e-01  8.10000000e+01  8.63348342e+01]\n",
                        " [ 7.15040956e-01  1.90000000e+01  8.64068386e+01]\n",
                        " [-1.32554635e+00  3.40000000e+01  8.81203822e+01]\n",
                        " [-6.46607761e-01  1.90000000e+01  8.92336681e+01]\n",
                        " [-5.33102905e-01 -1.00000000e+00  8.92694467e+01]\n",
                        " [ 7.12116723e-01  3.40000000e+01  8.94629441e+01]\n",
                        " [ 3.70336193e-01  8.30000000e+01  8.97525969e+01]\n",
                        " [ 8.50321273e-01 -1.00000000e+00  8.97613702e+01]\n",
                        " [-7.44982590e-02  1.90000000e+01  9.04769373e+01]\n",
                        " [-1.28586513e+00  8.30000000e+01  9.06098291e+01]\n",
                        " [-2.12559448e-01 -1.00000000e+00  9.10209665e+01]\n",
                        " [-1.36560450e+00  8.10000000e+01  9.19062288e+01]\n",
                        " [ 5.63576851e-01  8.30000000e+01  9.22936615e+01]\n",
                        " [ 1.61148373e+00  8.30000000e+01  9.22978170e+01]\n",
                        " [-7.96141584e-01  8.10000000e+01  9.23828554e+01]\n",
                        " [-5.22738132e-01 -1.00000000e+00  9.24227760e+01]\n",
                        " [-8.24389765e-01  8.30000000e+01  9.25104088e+01]\n",
                        " [ 7.75306210e-01  8.30000000e+01  9.25651794e+01]\n",
                        " [ 3.79457709e-01  4.00000000e+00  9.27300939e+01]\n",
                        " [ 1.24449961e+00  1.90000000e+01  9.27566470e+01]\n",
                        " [-7.54476807e-01  8.10000000e+01  9.28054915e+01]\n",
                        " [ 9.83123242e-01  1.90000000e+01  9.29587544e+01]\n",
                        " [ 5.30592783e-01  1.90000000e+01  9.29907813e+01]\n",
                        " [ 1.50473018e+00  8.30000000e+01  9.31440155e+01]\n",
                        " [ 7.85866779e-01  8.10000000e+01  9.32446637e+01]\n",
                        " [-5.38635907e-01  8.30000000e+01  9.35810857e+01]\n",
                        " [ 2.30170541e+00 -1.00000000e+00  9.36652636e+01]\n",
                        " [ 4.82343435e-01  3.40000000e+01  9.39942905e+01]\n",
                        " [ 1.03264787e+00  1.90000000e+01  9.41529705e+01]\n",
                        " [-9.49709798e-01  3.40000000e+01  9.49062072e+01]\n",
                        " [-9.56361446e-01 -1.00000000e+00  9.61352569e+01]\n",
                        " [-2.15765764e+00 -1.00000000e+00  9.62051275e+01]\n",
                        " [ 7.24838546e-01  3.40000000e+01  9.68607450e+01]\n",
                        " [ 1.73617928e+00  8.30000000e+01  9.68862345e+01]\n",
                        " [-1.51761306e+00  3.40000000e+01  9.70331119e+01]\n",
                        " [-9.28033465e-01  1.90000000e+01  9.74376462e+01]\n",
                        " [ 6.03966115e-01 -1.00000000e+00  9.81565268e+01]\n",
                        " [ 7.93688041e-02  4.00000000e+00  9.83405576e+01]\n",
                        " [ 9.62784453e-01  1.90000000e+01  9.84085467e+01]\n",
                        " [ 1.70018816e+00  8.30000000e+01  9.86238917e+01]\n",
                        " [ 1.22406254e+00  3.40000000e+01  9.86303617e+01]\n",
                        " [ 1.25092214e+00  1.90000000e+01  9.88227130e+01]\n",
                        " [-6.31525182e-01  8.10000000e+01  9.89556497e+01]\n",
                        " [ 4.56817214e-01 -1.00000000e+00  9.91591156e+01]]\n"
                    ]
                },
                {
                    "data": {
                        "image/png": "[encoded data removed]",
                        "text/plain": [
                            "<Figure size 300x150 with 1 Axes>"
                        ]
                    },
                    "metadata": {},
                    "output_type": "display_data"
                }
            ],
            "source": [
                "# Implement external sampling routine (or rather test if feasible)\n",
                "k = 0\n",
                "nody = out1[\"nodesConjMu\"][k]\n",
                "# mu_nody = np.array(out1[\"mu_nodes\"])[:, k][1:]\n",
                "#\n",
                "fig, ax = plt.subplots()\n",
                "# ax.plot(\n",
                "#    np.arange(input[\"t0\"], input[\"t_max\"], input[\"t_sample\"]),\n",
                "#    mu_nody,\n",
                "# )\n",
                "\n",
                "mu, sig = input[\"params_node\"].values()\n",
                "sd_llf = input[\"sd_llf\"]\n",
                "x_in = np.array(nody.diary_in)\n",
                "post_mu = x_in[:, 0]\n",
                "post_sig = np.zeros_like(post_mu)\n",
                "\n",
                "i = -1\n",
                "post_mu[i], post_sig[i] = mu, sig\n",
                "for i, _ in enumerate(x_in):\n",
                "    post_mu[i] = (post_sig[i - 1] ** 2 * x_in[i, 0] + sd_llf**2 * post_mu[i - 1]) / (\n",
                "        post_sig[i - 1] ** 2 + sd_llf**2\n",
                "    )\n",
                "    post_sig[i] = (1 / post_sig[i - 1] ** 2 + 1 / sd_llf**2) ** (-0.5)\n",
                "\n",
                "# ax.set_ylim(-1, 1)\n",
                "ax.plot(x_in[:, 2], post_mu, \"+\", alpha=1)\n",
                "ax.set_xlabel(\"$t$\")\n",
                "ax.set_ylabel(\"$MLE_i$\")\n",
                "\n",
                "print(nody.diary_in)\n",
                "# fig.savefig(\"graphics-output/TMP-mu_N1.png\", dpi=1500)"
            ]
        },
        {
            "cell_type": "code",
            "execution_count": 11,
            "metadata": {},
            "outputs": [
                {
                    "name": "stdout",
                    "output_type": "stream",
                    "text": [
                        "(101, 100)\n",
                        "101\n"
                    ]
                },
                {
                    "data": {
                        "image/png": "[encoded data removed]",
                        "text/plain": [
                            "<Figure size 300x150 with 1 Axes>"
                        ]
                    },
                    "metadata": {},
                    "output_type": "display_data"
                }
            ],
            "source": [
                "mu_arr = np.array(out1[\"mu_nodes\"])\n",
                "print(mu_arr.shape)\n",
                "x = np.arange(input[\"t0\"], input[\"t_max\"] + input[\"t_sample\"], input[\"t_sample\"])\n",
                "print(len(x))\n",
                "fig, ax = plt.subplots()\n",
                "for i, mu in enumerate(mu_arr.T):\n",
                "    ax.plot(x, mu, alpha=0.3, label=f\"$\\mu_{i}$\", color=\"tab:blue\")\n",
                "    ax.set_xlabel(\"$t$\")\n",
                "    ax.set_ylabel(\"$MLE_i$\")\n",
                "# ax.set_ylim(-100, 100)\n",
                "# ax.set_yscale(\"log\")\n",
                "# ax.loglog()\n",
                "# ax.legend()\n",
                "# fig.savefig(\"./graphics-output/TMP-mu_nodes.png\", dpi=1500)"
            ]
        },
        {
            "cell_type": "markdown",
            "metadata": {},
            "source": [
                "#### Data analysis 2"
            ]
        },
        {
            "cell_type": "code",
            "execution_count": 12,
            "metadata": {},
            "outputs": [
                {
                    "data": {
                        "text/plain": [
                            "(1, 100)"
                        ]
                    },
                    "execution_count": 12,
                    "metadata": {},
                    "output_type": "execute_result"
                },
                {
                    "data": {
                        "image/png": "[encoded data removed]",
                        "text/plain": [
                            "<Figure size 300x450 with 3 Axes>"
                        ]
                    },
                    "metadata": {},
                    "output_type": "display_data"
                }
            ],
            "source": [
                "# for i in N_iter:\n",
                "#    plt.plot(input[\"t_sample\"] * np.arange(0, kld.shape[0]), kld[:, i, ])\n",
                "kld = np.array(out1[\"kl_divs\"])\n",
                "fig, ax = plt.subplots(3, 1, constrained_layout=True, figsize=(3, 4.5))\n",
                "x = input[\"t_sample\"] * np.arange(0, kld.shape[0])\n",
                "for i, _ in enumerate(ax):\n",
                "    ax[i].plot(\n",
                "        x,  # input[\"t_sample\"] * np.arange(0, kld.shape[0]),\n",
                "        kld.mean(axis=1),\n",
                "        label=\"$KLD_i$\",\n",
                "    )\n",
                "    ax[i].set_ylabel(r\"$KLD(P||\\langle Q \\rangle )$\")\n",
                "    ax[i].set_xlim(0, x[-1])\n",
                "ax[2].set_xlabel(\"$t$\")\n",
                "ax[1].set_yscale(\"log\")\n",
                "ax[2].loglog()\n",
                "ax[2].set_xlim(input[\"t_sample\"], input[\"t_max\"])\n",
                "# fig.savefig(\"./graphics-output/TMP-KLD.png\", dpi=1500)"
            ]
        },
        {
            "cell_type": "code",
            "execution_count": 13,
            "metadata": {},
            "outputs": [
                {
                    "name": "stdout",
                    "output_type": "stream",
                    "text": [
                        "(101, 100)\n"
                    ]
                },
                {
                    "data": {
                        "image/png": "[encoded data removed]",
                        "text/plain": [
                            "<Figure size 300x150 with 1 Axes>"
                        ]
                    },
                    "metadata": {},
                    "output_type": "display_data"
                }
            ],
            "source": [
                "# for i in N_iter:\n",
                "#    plt.plot(input[\"t_sample\"] * np.arange(0, kld.shape[0]), kld[:, i, ])\n",
                "kld = np.array(out1[\"kl_divs\"])\n",
                "print(kld.shape)\n",
                "fig, ax = plt.subplots(constrained_layout=True, figsize=(3, 1.5))\n",
                "for i, _ in enumerate(kld.T):\n",
                "    ax.plot(\n",
                "        input[\"t_sample\"] * np.arange(0, kld.shape[0]),\n",
                "        kld[:, i],\n",
                "        label=\"avg\",\n",
                "    )\n",
                "# plt.loglog()\n",
                "# plt.ylim(0, 2)"
            ]
        },
        {
            "cell_type": "code",
            "execution_count": null,
            "metadata": {},
            "outputs": [],
            "source": []
        }
    ],
    "metadata": {
        "kernelspec": {
            "display_name": "neuro_op",
            "language": "python",
            "name": "python3"
        },
        "language_info": {
            "codemirror_mode": {
                "name": "ipython",
                "version": 3
            },
            "file_extension": ".py",
            "mimetype": "text/x-python",
            "name": "python",
            "nbconvert_exporter": "python",
            "pygments_lexer": "ipython3",
            "version": "3.11.10"
        },
        "orig_nbformat": 4
    },
    "nbformat": 4,
    "nbformat_minor": 2
}
