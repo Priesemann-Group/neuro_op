{
    "cells": [
        {
            "cell_type": "code",
            "execution_count": 1,
            "metadata": {},
            "outputs": [],
            "source": [
                "import copy\n",
                "\n",
                "# import cProfile\n",
                "\n",
                "import matplotlib.pyplot as plt\n",
                "import networkx as nx\n",
                "import numpy as np\n",
                "import scipy.stats as st\n",
                "\n",
                "import neuro_op as nop"
            ]
        },
        {
            "cell_type": "code",
            "execution_count": 2,
            "metadata": {},
            "outputs": [],
            "source": [
                "nop.plot_setup()\n",
                "cmap = \"inferno\""
            ]
        },
        {
            "cell_type": "code",
            "execution_count": 3,
            "metadata": {},
            "outputs": [],
            "source": [
                "# Reference input, to be adapted, just here for reference\n",
                "input = dict(\n",
                "    G=nop.build_random_network(N_nodes=100, N_neighbours=5),\n",
                "    llf_nodes=st.norm,\n",
                "    params_node=dict(\n",
                "        loc=0,\n",
                "        scale=10,\n",
                "    ),\n",
                "    sd_llf=1,\n",
                "    llf_world=st.norm,\n",
                "    params_world=dict(\n",
                "        loc=0,\n",
                "        scale=1,\n",
                "    ),\n",
                "    h=1,\n",
                "    r=1,\n",
                "    t0=0,\n",
                "    t_max=100,\n",
                "    t_sample=1,\n",
                "    sampling=True,\n",
                "    init_rngs=False,\n",
                "    seed=False,\n",
                ")"
            ]
        },
        {
            "cell_type": "code",
            "execution_count": 6,
            "metadata": {},
            "outputs": [
                {
                    "data": {
                        "text/plain": [
                            "14"
                        ]
                    },
                    "execution_count": 6,
                    "metadata": {},
                    "output_type": "execute_result"
                }
            ],
            "source": [
                "# TO THE CLUSTER!\n",
                "\n",
                "input[\"t_max\"] = 500\n",
                "nn_arr = np.concatenate((np.arange(0, 10, 2), np.arange(10, 100, 10)))\n",
                "for nn in nn_arr:\n",
                "    in_tmp = copy.deepcopy(input)\n",
                "    in_tmp[\"G\"] = nop.build_random_network(N_nodes=100, N_neighbours=int(nn))\n",
                "len(nn_arr)"
            ]
        },
        {
            "cell_type": "code",
            "execution_count": null,
            "metadata": {},
            "outputs": [
                {
                    "name": "stdout",
                    "output_type": "stream",
                    "text": [
                        "t_max =  10\n",
                        "\t =>\t t_exec =  0.28002333641052246\n",
                        "t_max =  100\n",
                        "\t =>\t t_exec =  2.209373712539673\n",
                        "t_max =  1000\n",
                        "\t =>\t t_exec =  21.819779634475708\n",
                        "t_max =  10000\n",
                        "\t =>\t t_exec =  236.54178857803345\n",
                        "t_max =  100000\n"
                    ]
                }
            ],
            "source": [
                "for N_exp in np.arange(\n",
                "    1,\n",
                "):\n",
                "    in_tmp = copy.deepcopy(input)\n",
                "    N = 10**N_exp\n",
                "    in_tmp[\"t_max\"] = N\n",
                "    # Run simulation\n",
                "    print(\"t_max = \", t_max)\n",
                "    t = nop.run_ConjMu(**in_tmp)[\"t_exec\"]\n",
                "    print(\"\\t =>\\t t_exec = \", t)"
            ]
        },
        {
            "cell_type": "code",
            "execution_count": 33,
            "metadata": {},
            "outputs": [],
            "source": [
                "# out1 = nop.run_ConjMu(**nop.input_ref_ConjMu)\n",
                "out1 = nop.run_ConjMu(**input)"
            ]
        },
        {
            "cell_type": "code",
            "execution_count": 34,
            "metadata": {},
            "outputs": [
                {
                    "data": {
                        "text/plain": [
                            "150271762191254302694987764278040004794"
                        ]
                    },
                    "execution_count": 34,
                    "metadata": {},
                    "output_type": "execute_result"
                }
            ],
            "source": [
                "out1[\"seed\"]"
            ]
        },
        {
            "cell_type": "code",
            "execution_count": 35,
            "metadata": {},
            "outputs": [],
            "source": [
                "nop.export_hdf5(out1, \"test.h5\")\n",
                "out1 = nop.import_hdf5(\"test.h5\")"
            ]
        },
        {
            "cell_type": "markdown",
            "metadata": {},
            "source": [
                "## Data analysis\n",
                "\n",
                "Random data analysis test notebook of steps later used in thorough analysis.\n"
            ]
        },
        {
            "cell_type": "markdown",
            "metadata": {},
            "source": [
                "#### Data analysis 1\n",
                "\n",
                "Firstly, extract output values for further analysis:"
            ]
        },
        {
            "cell_type": "code",
            "execution_count": 37,
            "metadata": {},
            "outputs": [
                {
                    "name": "stdout",
                    "output_type": "stream",
                    "text": [
                        "world\n",
                        "G\n",
                        "N_events\n",
                        "t_end\n",
                        "t_start\n",
                        "t_exec\n",
                        "seed\n",
                        "nodesConjMu\n",
                        "mu_nodes\n",
                        "sd_nodes\n",
                        "kl_divs\n"
                    ]
                }
            ],
            "source": [
                "for i in out1.keys():\n",
                "    print(i)"
            ]
        },
        {
            "cell_type": "markdown",
            "metadata": {},
            "source": [
                "\n",
                "Each node's posteriors are plotted. One should see nodes' posteriors of model parameters (in this case, $\\mu$), to converge around the true value. If not, nodes may need more information to converge ($\\rightarrow$ increase $t_{max}, h$).\n"
            ]
        },
        {
            "cell_type": "code",
            "execution_count": 38,
            "metadata": {},
            "outputs": [
                {
                    "data": {
                        "text/plain": [
                            "(array([ 2.,  3.,  6.,  8., 15., 20.,  4., 17., 10.,  2.,  1.,  6.,  0.,\n",
                            "         0.,  3.,  2.,  0.,  0.,  0.,  1.]),\n",
                            " array([0.01288419, 0.01381875, 0.0147533 , 0.01568786, 0.01662241,\n",
                            "        0.01755697, 0.01849152, 0.01942608, 0.02036063, 0.02129519,\n",
                            "        0.02222974, 0.0231643 , 0.02409885, 0.02503341, 0.02596796,\n",
                            "        0.02690252, 0.02783707, 0.02877163, 0.02970618, 0.03064074,\n",
                            "        0.03157529]),\n",
                            " <BarContainer object of 20 artists>)"
                        ]
                    },
                    "execution_count": 38,
                    "metadata": {},
                    "output_type": "execute_result"
                },
                {
                    "data": {
                        "image/png": "[encoded data removed]",
                        "text/plain": [
                            "<Figure size 300x150 with 1 Axes>"
                        ]
                    },
                    "metadata": {},
                    "output_type": "display_data"
                }
            ],
            "source": [
                "sigmas = []\n",
                "for i in out1[\"nodesConjMu\"]:\n",
                "    sigmas += [i.params_node[\"scale\"]]\n",
                "fig, ax = plt.subplots()\n",
                "ax.hist(sigmas, bins=20)"
            ]
        },
        {
            "cell_type": "code",
            "execution_count": 39,
            "metadata": {},
            "outputs": [
                {
                    "name": "stdout",
                    "output_type": "stream",
                    "text": [
                        "[[-1.54332978e+01  6.00000000e+00  1.13166833e-01]\n",
                        " [-4.02002541e+00 -1.00000000e+00  3.97128345e-01]\n",
                        " [-5.15531231e+00  6.00000000e+00  4.89660915e-01]\n",
                        " ...\n",
                        " [ 1.72902752e+00 -1.00000000e+00  9.99462349e+02]\n",
                        " [-3.08662746e+00 -1.00000000e+00  9.99689093e+02]\n",
                        " [-1.21975070e+00  3.50000000e+01  9.99781919e+02]]\n"
                    ]
                },
                {
                    "data": {
                        "image/png": "[encoded data removed]",
                        "text/plain": [
                            "<Figure size 300x150 with 1 Axes>"
                        ]
                    },
                    "metadata": {},
                    "output_type": "display_data"
                }
            ],
            "source": [
                "# Implement external sampling routine (or rather test if feasible)\n",
                "k = 0\n",
                "nody = out1[\"nodesConjMu\"][k]\n",
                "# mu_nody = np.array(out1[\"mu_nodes\"])[:, k][1:]\n",
                "#\n",
                "fig, ax = plt.subplots()\n",
                "# ax.plot(\n",
                "#    np.arange(input[\"t0\"], input[\"t_max\"], input[\"t_sample\"]),\n",
                "#    mu_nody,\n",
                "# )\n",
                "\n",
                "mu, sig = input[\"params_node\"].values()\n",
                "sd_llf = input[\"sd_llf\"]\n",
                "x_in = np.array(nody.diary_in)\n",
                "post_mu = x_in[:, 0]\n",
                "post_sig = np.zeros_like(post_mu)\n",
                "\n",
                "i = -1\n",
                "post_mu[i], post_sig[i] = mu, sig\n",
                "for i, _ in enumerate(x_in):\n",
                "    post_mu[i] = (post_sig[i - 1] ** 2 * x_in[i, 0] + sd_llf**2 * post_mu[i - 1]) / (\n",
                "        post_sig[i - 1] ** 2 + sd_llf**2\n",
                "    )\n",
                "    post_sig[i] = (1 / post_sig[i - 1] ** 2 + 1 / sd_llf**2) ** (-0.5)\n",
                "\n",
                "ax.set_ylim(-1, 1)\n",
                "ax.plot(x_in[:, 2], post_mu, \"+\", alpha=1)\n",
                "ax.set_xlabel(\"$t$\")\n",
                "ax.set_ylabel(\"$MLE_i$\")\n",
                "\n",
                "print(nody.diary_in)\n",
                "# fig.savefig(\"graphics-output/TMP-mu_N1.png\", dpi=1500)"
            ]
        },
        {
            "cell_type": "code",
            "execution_count": 40,
            "metadata": {},
            "outputs": [
                {
                    "name": "stdout",
                    "output_type": "stream",
                    "text": [
                        "(1001, 100)\n",
                        "1001\n"
                    ]
                },
                {
                    "data": {
                        "image/png": "[encoded data removed]",
                        "text/plain": [
                            "<Figure size 300x150 with 1 Axes>"
                        ]
                    },
                    "metadata": {},
                    "output_type": "display_data"
                }
            ],
            "source": [
                "mu_arr = np.array(out1[\"mu_nodes\"])\n",
                "print(mu_arr.shape)\n",
                "x = np.arange(input[\"t0\"], input[\"t_max\"] + input[\"t_sample\"], input[\"t_sample\"])\n",
                "print(len(x))\n",
                "fig, ax = plt.subplots()\n",
                "for i, mu in enumerate(mu_arr.T):\n",
                "    ax.plot(x, mu, alpha=0.3, label=f\"$\\mu_{i}$\", color=\"tab:blue\")\n",
                "    ax.set_xlabel(\"$t$\")\n",
                "    ax.set_ylabel(\"$MLE_i$\")\n",
                "# ax.set_ylim(-100, 100)\n",
                "# ax.set_yscale(\"log\")\n",
                "# ax.loglog()\n",
                "# ax.legend()\n",
                "# fig.savefig(\"./graphics-output/TMP-mu_nodes.png\", dpi=1500)"
            ]
        },
        {
            "cell_type": "markdown",
            "metadata": {},
            "source": [
                "#### Data analysis 2"
            ]
        },
        {
            "cell_type": "code",
            "execution_count": 41,
            "metadata": {},
            "outputs": [
                {
                    "data": {
                        "text/plain": [
                            "(1, 1000)"
                        ]
                    },
                    "execution_count": 41,
                    "metadata": {},
                    "output_type": "execute_result"
                },
                {
                    "data": {
                        "image/png": "[encoded data removed]",
                        "text/plain": [
                            "<Figure size 300x450 with 3 Axes>"
                        ]
                    },
                    "metadata": {},
                    "output_type": "display_data"
                }
            ],
            "source": [
                "# for i in N_iter:\n",
                "#    plt.plot(input[\"t_sample\"] * np.arange(0, kld.shape[0]), kld[:, i, ])\n",
                "kld = np.array(out1[\"kl_divs\"])\n",
                "fig, ax = plt.subplots(3, 1, constrained_layout=True, figsize=(3, 4.5))\n",
                "x = input[\"t_sample\"] * np.arange(0, kld.shape[0])\n",
                "for i, _ in enumerate(ax):\n",
                "    ax[i].plot(\n",
                "        x,  # input[\"t_sample\"] * np.arange(0, kld.shape[0]),\n",
                "        kld.mean(axis=1),\n",
                "        label=\"$KLD_i$\",\n",
                "    )\n",
                "    ax[i].set_ylabel(r\"$KLD(P||\\langle Q \\rangle )$\")\n",
                "    ax[i].set_xlim(0, x[-1])\n",
                "ax[2].set_xlabel(\"$t$\")\n",
                "ax[1].set_yscale(\"log\")\n",
                "ax[2].loglog()\n",
                "ax[2].set_xlim(input[\"t_sample\"], input[\"t_max\"])\n",
                "# fig.savefig(\"./graphics-output/TMP-KLD.png\", dpi=1500)"
            ]
        },
        {
            "cell_type": "code",
            "execution_count": 42,
            "metadata": {},
            "outputs": [
                {
                    "name": "stdout",
                    "output_type": "stream",
                    "text": [
                        "(1001, 100)\n"
                    ]
                },
                {
                    "data": {
                        "image/png": "[encoded data removed]",
                        "text/plain": [
                            "<Figure size 300x150 with 1 Axes>"
                        ]
                    },
                    "metadata": {},
                    "output_type": "display_data"
                }
            ],
            "source": [
                "# for i in N_iter:\n",
                "#    plt.plot(input[\"t_sample\"] * np.arange(0, kld.shape[0]), kld[:, i, ])\n",
                "kld = np.array(out1[\"kl_divs\"])\n",
                "print(kld.shape)\n",
                "fig, ax = plt.subplots(constrained_layout=True, figsize=(3, 1.5))\n",
                "for i, _ in enumerate(kld.T):\n",
                "    ax.plot(\n",
                "        input[\"t_sample\"] * np.arange(0, kld.shape[0]),\n",
                "        kld[:, i],\n",
                "        label=\"avg\",\n",
                "    )\n",
                "# plt.loglog()\n",
                "# plt.ylim(0, 2)"
            ]
        },
        {
            "cell_type": "code",
            "execution_count": null,
            "metadata": {},
            "outputs": [],
            "source": []
        }
    ],
    "metadata": {
        "kernelspec": {
            "display_name": "neuro_op",
            "language": "python",
            "name": "python3"
        },
        "language_info": {
            "codemirror_mode": {
                "name": "ipython",
                "version": 3
            },
            "file_extension": ".py",
            "mimetype": "text/x-python",
            "name": "python",
            "nbconvert_exporter": "python",
            "pygments_lexer": "ipython3",
            "version": "3.11.10"
        },
        "orig_nbformat": 4
    },
    "nbformat": 4,
    "nbformat_minor": 2
}
