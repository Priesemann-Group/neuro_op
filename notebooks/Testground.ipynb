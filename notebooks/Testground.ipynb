{
    "cells": [
        {
            "cell_type": "code",
            "execution_count": 1,
            "metadata": {},
            "outputs": [],
            "source": [
                "import copy\n",
                "\n",
                "# import cProfile\n",
                "import itertools\n",
                "\n",
                "import matplotlib.pyplot as plt\n",
                "import networkx as nx\n",
                "import numpy as np\n",
                "import scipy.stats as st\n",
                "\n",
                "import neuro_op as nop"
            ]
        },
        {
            "cell_type": "code",
            "execution_count": 2,
            "metadata": {},
            "outputs": [],
            "source": [
                "nop.plot_setup()\n",
                "cmap = \"inferno\""
            ]
        },
        {
            "cell_type": "code",
            "execution_count": 3,
            "metadata": {},
            "outputs": [],
            "source": [
                "# Reference input, to be adapted, just here for reference\n",
                "input = dict(\n",
                "    G=nop.build_random_network(N_nodes=100, N_neighbours=5),\n",
                "    llf_nodes=st.norm,\n",
                "    params_node=dict(\n",
                "        loc=0,\n",
                "        scale=10,\n",
                "    ),\n",
                "    sd_llf=1,\n",
                "    llf_world=st.norm,\n",
                "    params_world=dict(\n",
                "        loc=0,\n",
                "        scale=1,\n",
                "    ),\n",
                "    h=1,\n",
                "    r=1,\n",
                "    t0=0,\n",
                "    t_max=100,\n",
                "    t_sample=1,\n",
                "    sampling=True,\n",
                "    init_rngs=False,\n",
                "    seed=False,\n",
                ")"
            ]
        },
        {
            "cell_type": "code",
            "execution_count": 16,
            "metadata": {},
            "outputs": [
                {
                    "data": {
                        "text/plain": [
                            "6"
                        ]
                    },
                    "execution_count": 16,
                    "metadata": {},
                    "output_type": "execute_result"
                }
            ],
            "source": [
                "# c)\n",
                "sd_llf_arr = np.arange(0.25, 2.1, 0.25)\n",
                "nn_arr = np.arange(2.5, 21, 2.5)\n",
                "\n",
                "# d)\n",
                "sd_arr = np.arange(0.25, 2.1, 0.25)\n",
                "\n",
                "# e)\n",
                "mu_arr = np.arange(0, 10.1, 2)\n",
                "sd_arr = np.arange(1, 10, 1.5)\n",
                "r_arr = np.arange(1, 10, 1.5)"
            ]
        },
        {
            "cell_type": "code",
            "execution_count": 4,
            "metadata": {},
            "outputs": [],
            "source": [
                "# out1 = nop.run_ConjMu(**nop.input_ref_ConjMu)\n",
                "out1 = nop.run_ConjMu(**input)"
            ]
        },
        {
            "cell_type": "code",
            "execution_count": 5,
            "metadata": {},
            "outputs": [
                {
                    "data": {
                        "text/plain": [
                            "215028338518847489509847887119705684476"
                        ]
                    },
                    "execution_count": 5,
                    "metadata": {},
                    "output_type": "execute_result"
                }
            ],
            "source": [
                "out1[\"seed\"]"
            ]
        },
        {
            "cell_type": "code",
            "execution_count": 6,
            "metadata": {},
            "outputs": [],
            "source": [
                "nop.export_hdf5(out1, \"test.h5\")"
            ]
        },
        {
            "cell_type": "code",
            "execution_count": 7,
            "metadata": {},
            "outputs": [
                {
                    "data": {
                        "text/plain": [
                            "[<neuro_op.classes.NodeConjMu at 0x7beb2f769050>,\n",
                            " <neuro_op.classes.NodeConjMu at 0x7beb2f95a390>,\n",
                            " <neuro_op.classes.NodeConjMu at 0x7beb3beba690>,\n",
                            " <neuro_op.classes.NodeConjMu at 0x7beb2f9c4910>,\n",
                            " <neuro_op.classes.NodeConjMu at 0x7beb2f75df90>,\n",
                            " <neuro_op.classes.NodeConjMu at 0x7beb3840e390>,\n",
                            " <neuro_op.classes.NodeConjMu at 0x7beb2f776ed0>,\n",
                            " <neuro_op.classes.NodeConjMu at 0x7beb45323a10>,\n",
                            " <neuro_op.classes.NodeConjMu at 0x7beb2f774f50>,\n",
                            " <neuro_op.classes.NodeConjMu at 0x7beb2f777210>,\n",
                            " <neuro_op.classes.NodeConjMu at 0x7beb2f0d5210>,\n",
                            " <neuro_op.classes.NodeConjMu at 0x7beb2f0d5310>,\n",
                            " <neuro_op.classes.NodeConjMu at 0x7beb2f0d52d0>,\n",
                            " <neuro_op.classes.NodeConjMu at 0x7beb2f0d53d0>,\n",
                            " <neuro_op.classes.NodeConjMu at 0x7beb2f0d5510>,\n",
                            " <neuro_op.classes.NodeConjMu at 0x7beb2f0d5650>,\n",
                            " <neuro_op.classes.NodeConjMu at 0x7beb2f0d5790>,\n",
                            " <neuro_op.classes.NodeConjMu at 0x7beb2f0d58d0>,\n",
                            " <neuro_op.classes.NodeConjMu at 0x7beb2f0d5a10>,\n",
                            " <neuro_op.classes.NodeConjMu at 0x7beb2f0d5b50>,\n",
                            " <neuro_op.classes.NodeConjMu at 0x7beb2f0d5c90>,\n",
                            " <neuro_op.classes.NodeConjMu at 0x7beb2f0d5dd0>,\n",
                            " <neuro_op.classes.NodeConjMu at 0x7beb2f0d5f10>,\n",
                            " <neuro_op.classes.NodeConjMu at 0x7beb2f0d6050>,\n",
                            " <neuro_op.classes.NodeConjMu at 0x7beb2f0d6190>,\n",
                            " <neuro_op.classes.NodeConjMu at 0x7beb2f0d62d0>,\n",
                            " <neuro_op.classes.NodeConjMu at 0x7beb2f0d6410>,\n",
                            " <neuro_op.classes.NodeConjMu at 0x7beb2f0d6550>,\n",
                            " <neuro_op.classes.NodeConjMu at 0x7beb2f0d6690>,\n",
                            " <neuro_op.classes.NodeConjMu at 0x7beb2f0d67d0>,\n",
                            " <neuro_op.classes.NodeConjMu at 0x7beb2f0d6910>,\n",
                            " <neuro_op.classes.NodeConjMu at 0x7beb2f0d6a50>,\n",
                            " <neuro_op.classes.NodeConjMu at 0x7beb2f0d6b90>,\n",
                            " <neuro_op.classes.NodeConjMu at 0x7beb2f0d6cd0>,\n",
                            " <neuro_op.classes.NodeConjMu at 0x7beb2f0d6e10>,\n",
                            " <neuro_op.classes.NodeConjMu at 0x7beb2f0d6f50>,\n",
                            " <neuro_op.classes.NodeConjMu at 0x7beb2f0d7090>,\n",
                            " <neuro_op.classes.NodeConjMu at 0x7beb2f0d71d0>,\n",
                            " <neuro_op.classes.NodeConjMu at 0x7beb2f0d7310>,\n",
                            " <neuro_op.classes.NodeConjMu at 0x7beb2f0d7450>,\n",
                            " <neuro_op.classes.NodeConjMu at 0x7beb2f0d7590>,\n",
                            " <neuro_op.classes.NodeConjMu at 0x7beb2f0d76d0>,\n",
                            " <neuro_op.classes.NodeConjMu at 0x7beb2f0d7810>,\n",
                            " <neuro_op.classes.NodeConjMu at 0x7beb2f0d7950>,\n",
                            " <neuro_op.classes.NodeConjMu at 0x7beb2f0d7a90>,\n",
                            " <neuro_op.classes.NodeConjMu at 0x7beb2f0d7bd0>,\n",
                            " <neuro_op.classes.NodeConjMu at 0x7beb2f0d7d10>,\n",
                            " <neuro_op.classes.NodeConjMu at 0x7beb2ef30090>,\n",
                            " <neuro_op.classes.NodeConjMu at 0x7beb2ef301d0>,\n",
                            " <neuro_op.classes.NodeConjMu at 0x7beb2ef30110>,\n",
                            " <neuro_op.classes.NodeConjMu at 0x7beb2ef30250>,\n",
                            " <neuro_op.classes.NodeConjMu at 0x7beb2ef30390>,\n",
                            " <neuro_op.classes.NodeConjMu at 0x7beb2ef304d0>,\n",
                            " <neuro_op.classes.NodeConjMu at 0x7beb2ef30610>,\n",
                            " <neuro_op.classes.NodeConjMu at 0x7beb2ef30750>,\n",
                            " <neuro_op.classes.NodeConjMu at 0x7beb2ef30890>,\n",
                            " <neuro_op.classes.NodeConjMu at 0x7beb2ef309d0>,\n",
                            " <neuro_op.classes.NodeConjMu at 0x7beb2ef30b10>,\n",
                            " <neuro_op.classes.NodeConjMu at 0x7beb2ef30c50>,\n",
                            " <neuro_op.classes.NodeConjMu at 0x7beb2ef30d90>,\n",
                            " <neuro_op.classes.NodeConjMu at 0x7beb2ef30ed0>,\n",
                            " <neuro_op.classes.NodeConjMu at 0x7beb2ef31010>,\n",
                            " <neuro_op.classes.NodeConjMu at 0x7beb2ef31150>,\n",
                            " <neuro_op.classes.NodeConjMu at 0x7beb2ef31290>,\n",
                            " <neuro_op.classes.NodeConjMu at 0x7beb2ef313d0>,\n",
                            " <neuro_op.classes.NodeConjMu at 0x7beb2ef31510>,\n",
                            " <neuro_op.classes.NodeConjMu at 0x7beb2ef31650>,\n",
                            " <neuro_op.classes.NodeConjMu at 0x7beb2ef31790>,\n",
                            " <neuro_op.classes.NodeConjMu at 0x7beb2ef318d0>,\n",
                            " <neuro_op.classes.NodeConjMu at 0x7beb2ef31a10>,\n",
                            " <neuro_op.classes.NodeConjMu at 0x7beb2ef31b50>,\n",
                            " <neuro_op.classes.NodeConjMu at 0x7beb2ef31c90>,\n",
                            " <neuro_op.classes.NodeConjMu at 0x7beb2ef31dd0>,\n",
                            " <neuro_op.classes.NodeConjMu at 0x7beb2ef31f10>,\n",
                            " <neuro_op.classes.NodeConjMu at 0x7beb2ef32050>,\n",
                            " <neuro_op.classes.NodeConjMu at 0x7beb2ef32190>,\n",
                            " <neuro_op.classes.NodeConjMu at 0x7beb2ef322d0>,\n",
                            " <neuro_op.classes.NodeConjMu at 0x7beb2ef32410>,\n",
                            " <neuro_op.classes.NodeConjMu at 0x7beb2ef32550>,\n",
                            " <neuro_op.classes.NodeConjMu at 0x7beb2ef32690>,\n",
                            " <neuro_op.classes.NodeConjMu at 0x7beb2ef327d0>,\n",
                            " <neuro_op.classes.NodeConjMu at 0x7beb2ef32910>,\n",
                            " <neuro_op.classes.NodeConjMu at 0x7beb2ef32a50>,\n",
                            " <neuro_op.classes.NodeConjMu at 0x7beb2ef32b90>,\n",
                            " <neuro_op.classes.NodeConjMu at 0x7beb2ef32cd0>,\n",
                            " <neuro_op.classes.NodeConjMu at 0x7beb2ef32e10>,\n",
                            " <neuro_op.classes.NodeConjMu at 0x7beb2ef32f50>,\n",
                            " <neuro_op.classes.NodeConjMu at 0x7beb2ef33090>,\n",
                            " <neuro_op.classes.NodeConjMu at 0x7beb2ef331d0>,\n",
                            " <neuro_op.classes.NodeConjMu at 0x7beb2ef33310>,\n",
                            " <neuro_op.classes.NodeConjMu at 0x7beb2ef33450>,\n",
                            " <neuro_op.classes.NodeConjMu at 0x7beb2ef33590>,\n",
                            " <neuro_op.classes.NodeConjMu at 0x7beb2ef336d0>,\n",
                            " <neuro_op.classes.NodeConjMu at 0x7beb2ef33810>,\n",
                            " <neuro_op.classes.NodeConjMu at 0x7beb2ef33950>,\n",
                            " <neuro_op.classes.NodeConjMu at 0x7beb2ef33a90>,\n",
                            " <neuro_op.classes.NodeConjMu at 0x7beb2ef33bd0>,\n",
                            " <neuro_op.classes.NodeConjMu at 0x7beb2ef33d10>,\n",
                            " <neuro_op.classes.NodeConjMu at 0x7beb2ef24090>,\n",
                            " <neuro_op.classes.NodeConjMu at 0x7beb2ef241d0>]"
                        ]
                    },
                    "execution_count": 7,
                    "metadata": {},
                    "output_type": "execute_result"
                }
            ],
            "source": [
                "out1 = nop.import_hdf5(\"test.h5\", True, True, True)\n",
                "out1[\"nodesConjMu\"]"
            ]
        },
        {
            "cell_type": "markdown",
            "metadata": {},
            "source": [
                "## Data analysis\n",
                "\n",
                "Random data analysis test notebook of steps later used in thorough analysis.\n"
            ]
        },
        {
            "cell_type": "markdown",
            "metadata": {},
            "source": [
                "#### Data analysis 1\n",
                "\n",
                "Firstly, extract output values for further analysis:"
            ]
        },
        {
            "cell_type": "code",
            "execution_count": 8,
            "metadata": {},
            "outputs": [
                {
                    "name": "stdout",
                    "output_type": "stream",
                    "text": [
                        "world\n",
                        "G\n",
                        "N_events\n",
                        "t_end\n",
                        "t_start\n",
                        "t_exec\n",
                        "seed\n",
                        "nodesConjMu\n",
                        "mu_nodes\n",
                        "sd_nodes\n",
                        "kl_divs\n"
                    ]
                }
            ],
            "source": [
                "for i in out1.keys():\n",
                "    print(i)"
            ]
        },
        {
            "cell_type": "markdown",
            "metadata": {},
            "source": [
                "\n",
                "Each node's posteriors are plotted. One should see nodes' posteriors of model parameters (in this case, $\\mu$), to converge around the true value. If not, nodes may need more information to converge ($\\rightarrow$ increase $t_{max}, h$).\n"
            ]
        },
        {
            "cell_type": "code",
            "execution_count": 9,
            "metadata": {},
            "outputs": [
                {
                    "data": {
                        "text/plain": [
                            "(array([ 2.,  8., 13., 16., 15.,  9.,  5.,  9.,  7.,  2.,  7.,  3.,  0.,\n",
                            "         2.,  0.,  0.,  1.,  0.,  0.,  1.]),\n",
                            " array([0.04512891, 0.04770592, 0.05028293, 0.05285994, 0.05543695,\n",
                            "        0.05801396, 0.06059098, 0.06316799, 0.065745  , 0.06832201,\n",
                            "        0.07089902, 0.07347603, 0.07605304, 0.07863005, 0.08120706,\n",
                            "        0.08378408, 0.08636109, 0.0889381 , 0.09151511, 0.09409212,\n",
                            "        0.09666913]),\n",
                            " <BarContainer object of 20 artists>)"
                        ]
                    },
                    "execution_count": 9,
                    "metadata": {},
                    "output_type": "execute_result"
                },
                {
                    "data": {
                        "image/png": "[encoded data removed]",
                        "text/plain": [
                            "<Figure size 300x150 with 1 Axes>"
                        ]
                    },
                    "metadata": {},
                    "output_type": "display_data"
                }
            ],
            "source": [
                "sigmas = []\n",
                "for i in out1[\"nodesConjMu\"]:\n",
                "    sigmas += [i.params_node[\"scale\"]]\n",
                "fig, ax = plt.subplots()\n",
                "ax.hist(sigmas, bins=20)"
            ]
        },
        {
            "cell_type": "code",
            "execution_count": 10,
            "metadata": {},
            "outputs": [
                {
                    "name": "stdout",
                    "output_type": "stream",
                    "text": [
                        "[[ 1.14366176e+00 -1.00000000e+00  2.43655188e-02]\n",
                        " [-4.62741109e+00  2.00000000e+01  2.24021139e-01]\n",
                        " [ 9.05215033e+00  8.40000000e+01  2.76756800e-01]\n",
                        " [ 1.37220907e+00  2.00000000e+01  6.22952076e-01]\n",
                        " [-9.54078696e-01 -1.00000000e+00  9.73205740e-01]\n",
                        " [ 1.73346676e+00 -1.00000000e+00  1.01729853e+00]\n",
                        " [ 1.10628983e+00 -1.00000000e+00  1.07970706e+00]\n",
                        " [-1.96119063e+00  2.00000000e+01  1.80162713e+00]\n",
                        " [-9.63248279e-01 -1.00000000e+00  2.15476772e+00]\n",
                        " [-1.78630801e+00  8.40000000e+01  2.26826923e+00]\n",
                        " [ 1.20004233e-01  8.40000000e+01  2.79242084e+00]\n",
                        " [ 1.21296447e+00 -1.00000000e+00  3.07828344e+00]\n",
                        " [-7.92746424e-01 -1.00000000e+00  3.38347323e+00]\n",
                        " [ 9.45715955e-01 -1.00000000e+00  3.79104222e+00]\n",
                        " [ 5.67496132e-01 -1.00000000e+00  3.92866097e+00]\n",
                        " [-1.02989703e-01  2.00000000e+01  5.02919738e+00]\n",
                        " [ 1.10405736e+00 -1.00000000e+00  6.33728256e+00]\n",
                        " [ 2.71134639e-01  8.40000000e+01  7.59280115e+00]\n",
                        " [ 1.80165580e+00  2.00000000e+01  9.10438345e+00]\n",
                        " [ 5.00190685e-01  8.40000000e+01  9.31469229e+00]\n",
                        " [-1.13595933e+00  8.40000000e+01  9.73763320e+00]\n",
                        " [-1.24091489e+00 -1.00000000e+00  1.14387791e+01]\n",
                        " [ 4.38505579e-01 -1.00000000e+00  1.16713306e+01]\n",
                        " [-9.71704534e-01  2.00000000e+01  1.18231065e+01]\n",
                        " [-1.09464611e+00 -1.00000000e+00  1.28513671e+01]\n",
                        " [-7.55036319e-01 -1.00000000e+00  1.35708078e+01]\n",
                        " [ 1.32516072e+00 -1.00000000e+00  1.40001507e+01]\n",
                        " [ 1.30349965e+00 -1.00000000e+00  1.40231381e+01]\n",
                        " [-1.43390569e+00  8.40000000e+01  1.44362979e+01]\n",
                        " [ 3.54816342e+00 -1.00000000e+00  1.48208603e+01]\n",
                        " [ 9.58382292e-01  8.40000000e+01  1.49339725e+01]\n",
                        " [ 4.47487577e-01 -1.00000000e+00  1.54945601e+01]\n",
                        " [ 1.48804174e+00  2.00000000e+01  1.84067102e+01]\n",
                        " [ 1.45593393e+00 -1.00000000e+00  1.90387999e+01]\n",
                        " [ 1.08899384e-01 -1.00000000e+00  1.95826516e+01]\n",
                        " [ 1.60524733e-01  8.40000000e+01  1.97602129e+01]\n",
                        " [-3.21325444e-01  8.40000000e+01  2.05286937e+01]\n",
                        " [-1.11400089e-01  8.40000000e+01  2.12318617e+01]\n",
                        " [ 3.81030754e-01  2.00000000e+01  2.18650348e+01]\n",
                        " [-7.97519846e-02  8.40000000e+01  2.19912020e+01]\n",
                        " [ 1.33529832e+00  8.40000000e+01  2.20996297e+01]\n",
                        " [-1.25375434e+00 -1.00000000e+00  2.22444893e+01]\n",
                        " [-7.38885840e-01 -1.00000000e+00  2.33947698e+01]\n",
                        " [-2.17844629e+00  2.00000000e+01  2.34792798e+01]\n",
                        " [-1.09313384e-01 -1.00000000e+00  2.35227184e+01]\n",
                        " [ 3.55475795e-02  8.40000000e+01  2.43710834e+01]\n",
                        " [ 3.23206033e-01 -1.00000000e+00  2.47074183e+01]\n",
                        " [-5.92046920e-01 -1.00000000e+00  2.47522145e+01]\n",
                        " [-6.76152519e-01  8.40000000e+01  2.60361978e+01]\n",
                        " [-8.24730030e-01 -1.00000000e+00  2.62751412e+01]\n",
                        " [ 4.25272431e-01  8.40000000e+01  2.70236434e+01]\n",
                        " [-1.09158698e+00  8.40000000e+01  2.72772841e+01]\n",
                        " [-2.56196068e+00 -1.00000000e+00  2.76065294e+01]\n",
                        " [ 5.33877470e-01 -1.00000000e+00  2.90843827e+01]\n",
                        " [-4.12273754e-01  8.40000000e+01  3.03573471e+01]\n",
                        " [-8.57421676e-01  2.00000000e+01  3.05442217e+01]\n",
                        " [-1.33367038e+00 -1.00000000e+00  3.12766105e+01]\n",
                        " [-1.24888438e+00  8.40000000e+01  3.18172242e+01]\n",
                        " [ 3.76395212e-01  2.00000000e+01  3.32493008e+01]\n",
                        " [ 6.99731062e-02  8.40000000e+01  3.45064352e+01]\n",
                        " [-6.45265712e-01 -1.00000000e+00  3.54705686e+01]\n",
                        " [ 6.14020800e-01 -1.00000000e+00  3.65002927e+01]\n",
                        " [ 7.33380880e-01  2.00000000e+01  3.68473067e+01]\n",
                        " [ 2.09175944e-02  2.00000000e+01  3.70854275e+01]\n",
                        " [ 5.72291090e-01  2.00000000e+01  3.80152371e+01]\n",
                        " [-8.71255922e-01  2.00000000e+01  3.94330010e+01]\n",
                        " [ 5.25547956e-01 -1.00000000e+00  4.05546825e+01]\n",
                        " [ 7.93690359e-01 -1.00000000e+00  4.08703725e+01]\n",
                        " [ 2.23220310e+00 -1.00000000e+00  4.09066213e+01]\n",
                        " [ 9.47598015e-01  2.00000000e+01  4.13431526e+01]\n",
                        " [-3.80169042e-01 -1.00000000e+00  4.13882500e+01]\n",
                        " [-2.39608681e-01  2.00000000e+01  4.20451276e+01]\n",
                        " [ 2.59475794e-01 -1.00000000e+00  4.31145478e+01]\n",
                        " [ 3.24364364e+00 -1.00000000e+00  4.35691009e+01]\n",
                        " [ 8.43751268e-01  8.40000000e+01  4.42923412e+01]\n",
                        " [-2.17198937e+00 -1.00000000e+00  4.45689744e+01]\n",
                        " [ 2.62723455e-01 -1.00000000e+00  4.49798653e+01]\n",
                        " [ 1.84636037e+00 -1.00000000e+00  4.57232567e+01]\n",
                        " [-5.56573423e-01 -1.00000000e+00  4.59831253e+01]\n",
                        " [-2.70279412e+00  2.00000000e+01  4.60012644e+01]\n",
                        " [ 2.20753744e+00  8.40000000e+01  4.60289580e+01]\n",
                        " [-2.85894222e-01  2.00000000e+01  4.66919878e+01]\n",
                        " [-2.83461343e-01 -1.00000000e+00  4.73928170e+01]\n",
                        " [-6.86602171e-01 -1.00000000e+00  4.79179995e+01]\n",
                        " [-1.50541254e+00  2.00000000e+01  4.90005165e+01]\n",
                        " [-3.06388833e+00 -1.00000000e+00  4.96574048e+01]\n",
                        " [-1.99659942e+00 -1.00000000e+00  4.97073021e+01]\n",
                        " [-3.44234710e-01 -1.00000000e+00  4.98852839e+01]\n",
                        " [ 1.36746185e-01 -1.00000000e+00  4.99973027e+01]\n",
                        " [-4.19793414e-01  2.00000000e+01  5.07116823e+01]\n",
                        " [ 9.31233179e-01 -1.00000000e+00  5.11318575e+01]\n",
                        " [ 1.73346884e+00 -1.00000000e+00  5.16142550e+01]\n",
                        " [ 1.48368810e+00 -1.00000000e+00  5.16625969e+01]\n",
                        " [-9.53697771e-02 -1.00000000e+00  5.16773460e+01]\n",
                        " [-6.09132844e-02 -1.00000000e+00  5.36812722e+01]\n",
                        " [ 7.87621234e-01 -1.00000000e+00  5.47595397e+01]\n",
                        " [-4.53008286e-01 -1.00000000e+00  5.48604005e+01]\n",
                        " [-1.35466198e+00 -1.00000000e+00  5.48786785e+01]\n",
                        " [-9.87333951e-01 -1.00000000e+00  5.51510507e+01]\n",
                        " [-4.48326825e-01 -1.00000000e+00  5.70841644e+01]\n",
                        " [-1.00489453e+00  2.00000000e+01  5.78551202e+01]\n",
                        " [-1.08336011e+00 -1.00000000e+00  5.78596172e+01]\n",
                        " [-2.75748031e+00 -1.00000000e+00  5.79395589e+01]\n",
                        " [-1.20077308e+00  8.40000000e+01  5.96310371e+01]\n",
                        " [-1.62185364e+00  2.00000000e+01  5.99192839e+01]\n",
                        " [ 3.02267223e-01 -1.00000000e+00  6.00402275e+01]\n",
                        " [-5.55918867e-01 -1.00000000e+00  6.00473902e+01]\n",
                        " [ 2.35220918e+00 -1.00000000e+00  6.03968121e+01]\n",
                        " [-2.34363425e+00  8.40000000e+01  6.08581404e+01]\n",
                        " [ 2.58621551e-01 -1.00000000e+00  6.13152848e+01]\n",
                        " [-9.12588633e-02 -1.00000000e+00  6.15090261e+01]\n",
                        " [-1.99415278e-02  2.00000000e+01  6.26610318e+01]\n",
                        " [-5.14480344e-01 -1.00000000e+00  6.30497271e+01]\n",
                        " [-2.09915461e+00 -1.00000000e+00  6.35102351e+01]\n",
                        " [ 6.97989685e-02  8.40000000e+01  6.37182595e+01]\n",
                        " [-1.32650754e-01  8.40000000e+01  6.44426378e+01]\n",
                        " [ 1.90855539e+00 -1.00000000e+00  6.52417022e+01]\n",
                        " [-8.91535809e-01  2.00000000e+01  6.53008324e+01]\n",
                        " [-4.37186619e-01 -1.00000000e+00  6.63813528e+01]\n",
                        " [-1.00977645e+00  2.00000000e+01  6.65506276e+01]\n",
                        " [ 6.34105940e-01 -1.00000000e+00  6.69848846e+01]\n",
                        " [ 6.51287905e-01  8.40000000e+01  6.71834164e+01]\n",
                        " [-4.84646557e-01  2.00000000e+01  6.90421223e+01]\n",
                        " [-1.41422076e+00 -1.00000000e+00  6.92812106e+01]\n",
                        " [-7.24006724e-01 -1.00000000e+00  6.93575555e+01]\n",
                        " [-1.41603238e+00 -1.00000000e+00  6.95665447e+01]\n",
                        " [-4.73989986e-02 -1.00000000e+00  6.98222768e+01]\n",
                        " [-2.34668584e+00 -1.00000000e+00  7.01154762e+01]\n",
                        " [-6.25329583e-01 -1.00000000e+00  7.02205048e+01]\n",
                        " [ 3.35906069e-01  2.00000000e+01  7.05894290e+01]\n",
                        " [-1.50114475e+00 -1.00000000e+00  7.14469319e+01]\n",
                        " [ 9.89422237e-01 -1.00000000e+00  7.16182825e+01]\n",
                        " [ 1.63525769e+00  2.00000000e+01  7.31921954e+01]\n",
                        " [ 8.16881923e-01  8.40000000e+01  7.49355256e+01]\n",
                        " [ 1.41988606e+00 -1.00000000e+00  7.50016828e+01]\n",
                        " [ 5.09061059e-01 -1.00000000e+00  7.65710664e+01]\n",
                        " [ 9.23947628e-01 -1.00000000e+00  7.69671027e+01]\n",
                        " [ 2.13554646e+00  2.00000000e+01  7.76951564e+01]\n",
                        " [-2.45063916e-01 -1.00000000e+00  7.78488094e+01]\n",
                        " [-3.02335470e+00 -1.00000000e+00  7.82091950e+01]\n",
                        " [-5.11921345e-01  8.40000000e+01  7.82556323e+01]\n",
                        " [-6.63465035e-01  2.00000000e+01  7.95964678e+01]\n",
                        " [ 5.06877840e-01 -1.00000000e+00  8.13326402e+01]\n",
                        " [ 1.72601610e+00 -1.00000000e+00  8.13802296e+01]\n",
                        " [ 1.63034237e+00 -1.00000000e+00  8.19955758e+01]\n",
                        " [-1.62590903e-01 -1.00000000e+00  8.32693505e+01]\n",
                        " [-1.22383874e+00  8.40000000e+01  8.44996591e+01]\n",
                        " [-8.02493282e-01 -1.00000000e+00  8.53268545e+01]\n",
                        " [ 6.90979210e-01  2.00000000e+01  8.60557004e+01]\n",
                        " [ 1.43930857e+00  2.00000000e+01  8.73045193e+01]\n",
                        " [ 7.80672883e-01  8.40000000e+01  8.83118324e+01]\n",
                        " [ 5.95251947e-02  2.00000000e+01  8.92597850e+01]\n",
                        " [ 4.88298385e-01  8.40000000e+01  8.93179018e+01]\n",
                        " [ 1.25859617e+00  8.40000000e+01  8.99163495e+01]\n",
                        " [ 2.02937096e+00 -1.00000000e+00  9.09420158e+01]\n",
                        " [ 6.26569710e-01  2.00000000e+01  9.11487985e+01]\n",
                        " [ 1.34652523e+00 -1.00000000e+00  9.12826041e+01]\n",
                        " [ 3.56888859e-02 -1.00000000e+00  9.14802205e+01]\n",
                        " [ 7.17160921e-01  8.40000000e+01  9.20259583e+01]\n",
                        " [ 1.83919179e+00  8.40000000e+01  9.20478838e+01]\n",
                        " [ 1.23185811e-01  8.40000000e+01  9.23433324e+01]\n",
                        " [ 1.64243761e+00 -1.00000000e+00  9.26020111e+01]\n",
                        " [ 6.26838950e-01 -1.00000000e+00  9.36719582e+01]\n",
                        " [-1.21599228e+00 -1.00000000e+00  9.36956760e+01]\n",
                        " [ 3.04689572e-01  2.00000000e+01  9.46879608e+01]\n",
                        " [ 1.03931927e+00  2.00000000e+01  9.52384966e+01]\n",
                        " [ 2.77137668e-01  8.40000000e+01  9.60450747e+01]\n",
                        " [ 5.61639279e-01 -1.00000000e+00  9.63904442e+01]\n",
                        " [ 4.41830975e+00 -1.00000000e+00  9.68666098e+01]\n",
                        " [ 1.54351892e+00  2.00000000e+01  9.85941406e+01]\n",
                        " [-2.66670984e-01 -1.00000000e+00  9.87899422e+01]\n",
                        " [ 1.38520595e-01  8.40000000e+01  9.89995583e+01]\n",
                        " [ 7.73246401e-01  2.00000000e+01  9.90189550e+01]]\n"
                    ]
                },
                {
                    "data": {
                        "image/png": "[encoded data removed]",
                        "text/plain": [
                            "<Figure size 300x150 with 1 Axes>"
                        ]
                    },
                    "metadata": {},
                    "output_type": "display_data"
                }
            ],
            "source": [
                "# Implement external sampling routine (or rather test if feasible)\n",
                "k = 0\n",
                "nody = out1[\"nodesConjMu\"][k]\n",
                "# mu_nody = np.array(out1[\"mu_nodes\"])[:, k][1:]\n",
                "#\n",
                "fig, ax = plt.subplots()\n",
                "# ax.plot(\n",
                "#    np.arange(input[\"t0\"], input[\"t_max\"], input[\"t_sample\"]),\n",
                "#    mu_nody,\n",
                "# )\n",
                "\n",
                "mu, sig = input[\"params_node\"].values()\n",
                "sd_llf = input[\"sd_llf\"]\n",
                "x_in = np.array(nody.diary_in)\n",
                "post_mu = x_in[:, 0]\n",
                "post_sig = np.zeros_like(post_mu)\n",
                "\n",
                "i = -1\n",
                "post_mu[i], post_sig[i] = mu, sig\n",
                "for i, _ in enumerate(x_in):\n",
                "    post_mu[i] = (post_sig[i - 1] ** 2 * x_in[i, 0] + sd_llf**2 * post_mu[i - 1]) / (\n",
                "        post_sig[i - 1] ** 2 + sd_llf**2\n",
                "    )\n",
                "    post_sig[i] = (1 / post_sig[i - 1] ** 2 + 1 / sd_llf**2) ** (-0.5)\n",
                "\n",
                "ax.set_ylim(-1, 1)\n",
                "ax.plot(x_in[:, 2], post_mu, \"+\", alpha=1)\n",
                "ax.set_xlabel(\"$t$\")\n",
                "ax.set_ylabel(\"$MLE_i$\")\n",
                "\n",
                "print(nody.diary_in)\n",
                "# fig.savefig(\"graphics-output/TMP-mu_N1.png\", dpi=1500)"
            ]
        },
        {
            "cell_type": "code",
            "execution_count": 11,
            "metadata": {},
            "outputs": [
                {
                    "name": "stdout",
                    "output_type": "stream",
                    "text": [
                        "(101, 100)\n",
                        "101\n"
                    ]
                },
                {
                    "data": {
                        "image/png": "[encoded data removed]",
                        "text/plain": [
                            "<Figure size 300x150 with 1 Axes>"
                        ]
                    },
                    "metadata": {},
                    "output_type": "display_data"
                }
            ],
            "source": [
                "mu_arr = np.array(out1[\"mu_nodes\"])\n",
                "print(mu_arr.shape)\n",
                "x = np.arange(input[\"t0\"], input[\"t_max\"] + input[\"t_sample\"], input[\"t_sample\"])\n",
                "print(len(x))\n",
                "fig, ax = plt.subplots()\n",
                "for i, mu in enumerate(mu_arr.T):\n",
                "    ax.plot(x, mu, alpha=0.3, label=f\"$\\mu_{i}$\", color=\"tab:blue\")\n",
                "    ax.set_xlabel(\"$t$\")\n",
                "    ax.set_ylabel(\"$MLE_i$\")\n",
                "# ax.set_ylim(-100, 100)\n",
                "# ax.set_yscale(\"log\")\n",
                "# ax.loglog()\n",
                "# ax.legend()\n",
                "# fig.savefig(\"./graphics-output/TMP-mu_nodes.png\", dpi=1500)"
            ]
        },
        {
            "cell_type": "markdown",
            "metadata": {},
            "source": [
                "#### Data analysis 2"
            ]
        },
        {
            "cell_type": "code",
            "execution_count": 12,
            "metadata": {},
            "outputs": [
                {
                    "data": {
                        "text/plain": [
                            "(1, 100)"
                        ]
                    },
                    "execution_count": 12,
                    "metadata": {},
                    "output_type": "execute_result"
                },
                {
                    "data": {
                        "image/png": "[encoded data removed]",
                        "text/plain": [
                            "<Figure size 300x450 with 3 Axes>"
                        ]
                    },
                    "metadata": {},
                    "output_type": "display_data"
                }
            ],
            "source": [
                "# for i in N_iter:\n",
                "#    plt.plot(input[\"t_sample\"] * np.arange(0, kld.shape[0]), kld[:, i, ])\n",
                "kld = np.array(out1[\"kl_divs\"])\n",
                "fig, ax = plt.subplots(3, 1, constrained_layout=True, figsize=(3, 4.5))\n",
                "x = input[\"t_sample\"] * np.arange(0, kld.shape[0])\n",
                "for i, _ in enumerate(ax):\n",
                "    ax[i].plot(\n",
                "        x,  # input[\"t_sample\"] * np.arange(0, kld.shape[0]),\n",
                "        kld.mean(axis=1),\n",
                "        label=\"$KLD_i$\",\n",
                "    )\n",
                "    ax[i].set_ylabel(r\"$KLD(P||\\langle Q \\rangle )$\")\n",
                "    ax[i].set_xlim(0, x[-1])\n",
                "ax[2].set_xlabel(\"$t$\")\n",
                "ax[1].set_yscale(\"log\")\n",
                "ax[2].loglog()\n",
                "ax[2].set_xlim(input[\"t_sample\"], input[\"t_max\"])\n",
                "# fig.savefig(\"./graphics-output/TMP-KLD.png\", dpi=1500)"
            ]
        },
        {
            "cell_type": "code",
            "execution_count": 13,
            "metadata": {},
            "outputs": [
                {
                    "name": "stdout",
                    "output_type": "stream",
                    "text": [
                        "(101, 100)\n"
                    ]
                },
                {
                    "data": {
                        "image/png": "[encoded data removed]",
                        "text/plain": [
                            "<Figure size 300x150 with 1 Axes>"
                        ]
                    },
                    "metadata": {},
                    "output_type": "display_data"
                }
            ],
            "source": [
                "# for i in N_iter:\n",
                "#    plt.plot(input[\"t_sample\"] * np.arange(0, kld.shape[0]), kld[:, i, ])\n",
                "kld = np.array(out1[\"kl_divs\"])\n",
                "print(kld.shape)\n",
                "fig, ax = plt.subplots(constrained_layout=True, figsize=(3, 1.5))\n",
                "for i, _ in enumerate(kld.T):\n",
                "    ax.plot(\n",
                "        input[\"t_sample\"] * np.arange(0, kld.shape[0]),\n",
                "        kld[:, i],\n",
                "        label=\"avg\",\n",
                "    )\n",
                "# plt.loglog()\n",
                "# plt.ylim(0, 2)"
            ]
        },
        {
            "cell_type": "code",
            "execution_count": null,
            "metadata": {},
            "outputs": [],
            "source": []
        }
    ],
    "metadata": {
        "kernelspec": {
            "display_name": "neuro_op",
            "language": "python",
            "name": "python3"
        },
        "language_info": {
            "codemirror_mode": {
                "name": "ipython",
                "version": 3
            },
            "file_extension": ".py",
            "mimetype": "text/x-python",
            "name": "python",
            "nbconvert_exporter": "python",
            "pygments_lexer": "ipython3",
            "version": "3.11.10"
        },
        "orig_nbformat": 4
    },
    "nbformat": 4,
    "nbformat_minor": 2
}
