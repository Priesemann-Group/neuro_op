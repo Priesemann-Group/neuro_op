{
 "cells": [
  {
   "cell_type": "code",
   "execution_count": 25,
   "metadata": {},
   "outputs": [],
   "source": [
    "import itertools\n",
    "\n",
    "import numpy as np\n",
    "import matplotlib.pyplot as plt\n",
    "import xarray as xr\n",
    "\n",
    "import neuro_op as nop"
   ]
  },
  {
   "cell_type": "markdown",
   "metadata": {},
   "source": [
    "Analysis of scan over\n",
    "- $\\mu\\in[0.0,0.5,...,2.5]$\n",
    "- $\\sigma\\in[0.5,1.0,...,2.0,10]$\n",
    "- $\\frac{r}{h}\\in[0,0.25,...,5]$\n",
    "\n",
    "List of wished plots (tentatively):\n",
    "- KLD by r/h\n",
    "- mu-sigma-KLD (3d heatmap)\n",
    "- mean squared distances"
   ]
  },
  {
   "cell_type": "code",
   "execution_count": 5,
   "metadata": {},
   "outputs": [],
   "source": [
    "def get_name(mu, sd, rate):\n",
    "    return str(\n",
    "        \"../testing/2024-06--0--ConjMu-Scan/\"\n",
    "        + \"out--mu-\"\n",
    "        + str(mu)\n",
    "        + \"--sd-\"\n",
    "        + str(sd)\n",
    "        + \"--r-\"\n",
    "        + str(round(rate, 2))\n",
    "        + \".h5\"\n",
    "    )\n",
    "\n",
    "\n",
    "def get_mean_kld(mu, sd, rate):\n",
    "    data = nop.import_hdf5(get_name(mu, sd, rate))\n",
    "    return np.mean(\n",
    "        [\n",
    "            nop.postrun_kld_ConjMu(\n",
    "                mu_ppd=[node.params_node[\"loc\"]],\n",
    "                sd_ppd=[node.params_node[\"scale\"] + node.sd_llf],\n",
    "                mu_real=mu,\n",
    "                sd_real=sd,\n",
    "            )\n",
    "            for node in data[\"nodesConj\"]\n",
    "        ]\n",
    "    )\n",
    "\n",
    "\n",
    "names = [\n",
    "    get_name(mu, sd, rate)\n",
    "    for mu in np.arange(0, 2.51, 0.5)\n",
    "    for sd in [0.5, 1.0, 1.5, 2, 10]\n",
    "    for rate in np.arange(0, 5.01, 0.25)\n",
    "]"
   ]
  },
  {
   "cell_type": "code",
   "execution_count": 8,
   "metadata": {},
   "outputs": [],
   "source": [
    "# Define parameter ranges\n",
    "mu_range = np.arange(0, 2.51, 0.5)\n",
    "sd_range = [0.5, 1.0, 1.5, 2.0, 10]\n",
    "rate_range = np.arange(0, 5.01, 0.25)\n",
    "\n",
    "# Preallocate an array for mean KLD values\n",
    "mean_kld_values = np.zeros((len(mu_range), len(sd_range), len(rate_range)))\n",
    "\n",
    "for i, (mu, sd, rate) in enumerate(itertools.product(mu_range, sd_range, rate_range)):\n",
    "    mean_kld_values[np.unravel_index(i, mean_kld_values.shape)] = get_mean_kld(mu, sd, rate)\n",
    "\n",
    "# Create an xarray Dataset\n",
    "ds = xr.Dataset(\n",
    "    {\n",
    "        \"mean_kld\": ((\"mu\", \"sd\", \"rate\"), mean_kld_values)\n",
    "    },\n",
    "    coords={\n",
    "        \"mu\": mu_range,\n",
    "        \"sd\": sd_range,\n",
    "        \"rate\": rate_range\n",
    "    }\n",
    ")"
   ]
  },
  {
   "cell_type": "code",
   "execution_count": 55,
   "metadata": {},
   "outputs": [
    {
     "data": {
      "image/png": "[encoded data removed]",
      "text/plain": [
       "<Figure size 800x200 with 6 Axes>"
      ]
     },
     "metadata": {},
     "output_type": "display_data"
    }
   ],
   "source": [
    "# Plot a heatmap of the mean KLD values of ds_kld with axis mu and rate, with sd=1.0\n",
    "\n",
    "kld_min = 0\n",
    "kld_max = float(ds.mean_kld.max())\n",
    "\n",
    "fig, ax = plt.subplots(1, 5, constrained_layout=True, figsize=(8, 2))\n",
    "for i, sd in enumerate(sd_range):\n",
    "    if ax[i] != ax[-1] and ax[i] != ax[0]:\n",
    "        ds.sel(sd=sd).mean_kld.plot(\n",
    "            ax=ax[i], x=\"mu\", y=\"rate\", vmin=kld_min, vmax=kld_max, add_colorbar=False\n",
    "        )\n",
    "        ax[i].set_ylabel(\"\")\n",
    "    elif ax[i] == ax[0]:\n",
    "        ds.sel(sd=sd).mean_kld.plot(\n",
    "            ax=ax[i], x=\"mu\", y=\"rate\", vmin=kld_min, vmax=kld_max, add_colorbar=False\n",
    "        )\n",
    "        ax[i].set_ylabel(\"rel. rate $r/h$\")\n",
    "    else:\n",
    "        ds.sel(sd=sd).mean_kld.plot(\n",
    "            ax=ax[i], x=\"mu\", y=\"rate\", vmin=kld_min, vmax=kld_max, add_colorbar=True\n",
    "        )\n",
    "        ax[i].set_ylabel(\"\")\n",
    "\n",
    "fig.savefig(\"kld_heatmap.png\", dpi=3000, transparent=True)"
   ]
  },
  {
   "cell_type": "code",
   "execution_count": null,
   "metadata": {},
   "outputs": [],
   "source": []
  }
 ],
 "metadata": {
  "kernelspec": {
   "display_name": "Python 3.11 (neuro_op)",
   "language": "python",
   "name": "neuro_op"
  },
  "language_info": {
   "codemirror_mode": {
    "name": "ipython",
    "version": 3
   },
   "file_extension": ".py",
   "mimetype": "text/x-python",
   "name": "python",
   "nbconvert_exporter": "python",
   "pygments_lexer": "ipython3",
   "version": "3.11.7"
  }
 },
 "nbformat": 4,
 "nbformat_minor": 2
}
